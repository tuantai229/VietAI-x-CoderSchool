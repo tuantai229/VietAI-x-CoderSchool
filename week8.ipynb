{
 "cells": [
  {
   "cell_type": "code",
   "execution_count": 4,
   "metadata": {},
   "outputs": [],
   "source": [
    "import pandas as pd\n",
    "from sklearn.model_selection import train_test_split, GridSearchCV\n",
    "from sklearn.feature_extraction.text import TfidfVectorizer\n",
    "from sklearn.preprocessing import OneHotEncoder\n",
    "from sklearn.compose import ColumnTransformer\n",
    "from sklearn.pipeline import Pipeline\n",
    "from sklearn.ensemble import RandomForestClassifier\n",
    "from sklearn.metrics import classification_report\n",
    "\n",
    "def filter_location(location):\n",
    "    result = location.split(\",\")\n",
    "    if len(result) > 1:\n",
    "        return result[1][1:] #lấy phần tử có index là 1, bỏ ký tự trắng đầu tiên (Houston, TX => lấy đc TX)\n",
    "    else:\n",
    "        return location\n",
    "\n",
    "data = pd.read_excel(\"week8/job_dataset.ods\", engine=\"odf\", dtype=\"str\")\n",
    "data = data.dropna(axis=0)\n",
    "data[\"location\"] = data[\"location\"].apply(filter_location)\n",
    "\n",
    "target = \"career_level\"\n",
    "\n",
    "x = data.drop(target, axis=1)\n",
    "y = data[target]\n",
    "\n",
    "x_train, x_test, y_train, y_test = train_test_split(x, y, test_size=0.2, random_state=2024)\n",
    "\n"
   ]
  },
  {
   "cell_type": "code",
   "execution_count": 5,
   "metadata": {},
   "outputs": [
    {
     "name": "stdout",
     "output_type": "stream",
     "text": [
      "                                      precision    recall  f1-score   support\n",
      "\n",
      "                      bereichsleiter       0.75      0.03      0.06       188\n",
      "       director_business_unit_leader       1.00      0.19      0.32        16\n",
      "                 manager_team_leader       0.64      0.51      0.57       546\n",
      "senior_specialist_or_project_manager       0.71      0.96      0.82       863\n",
      "                          specialist       0.00      0.00      0.00         2\n",
      "\n",
      "                            accuracy                           0.69      1615\n",
      "                           macro avg       0.62      0.34      0.35      1615\n",
      "                        weighted avg       0.69      0.69      0.64      1615\n",
      "\n"
     ]
    },
    {
     "name": "stderr",
     "output_type": "stream",
     "text": [
      "/Users/tuantai229/Projects/VietAI-x-CoderSchool/venv/lib/python3.12/site-packages/sklearn/metrics/_classification.py:1531: UndefinedMetricWarning: Precision is ill-defined and being set to 0.0 in labels with no predicted samples. Use `zero_division` parameter to control this behavior.\n",
      "  _warn_prf(average, modifier, f\"{metric.capitalize()} is\", len(result))\n",
      "/Users/tuantai229/Projects/VietAI-x-CoderSchool/venv/lib/python3.12/site-packages/sklearn/metrics/_classification.py:1531: UndefinedMetricWarning: Precision is ill-defined and being set to 0.0 in labels with no predicted samples. Use `zero_division` parameter to control this behavior.\n",
      "  _warn_prf(average, modifier, f\"{metric.capitalize()} is\", len(result))\n",
      "/Users/tuantai229/Projects/VietAI-x-CoderSchool/venv/lib/python3.12/site-packages/sklearn/metrics/_classification.py:1531: UndefinedMetricWarning: Precision is ill-defined and being set to 0.0 in labels with no predicted samples. Use `zero_division` parameter to control this behavior.\n",
      "  _warn_prf(average, modifier, f\"{metric.capitalize()} is\", len(result))\n"
     ]
    }
   ],
   "source": [
    "preprocessor =  ColumnTransformer(transformers=[\n",
    "    (\"title\", TfidfVectorizer(stop_words=\"english\", ngram_range=(1, 1)), \"title\"),\n",
    "    (\"location\", OneHotEncoder(handle_unknown='ignore'), [\"location\"]),\n",
    "    (\"description\", TfidfVectorizer(stop_words=\"english\", ngram_range=(1, 2)), \"description\"),\n",
    "    (\"function\", OneHotEncoder(handle_unknown='ignore'), [\"function\"]),\n",
    "    (\"industry\", TfidfVectorizer(stop_words=\"english\", ngram_range=(1, 1)), \"industry\"),\n",
    "])\n",
    "\n",
    "model = Pipeline(steps=[\n",
    "    (\"pre_processor\", preprocessor),\n",
    "    (\"regressor\", RandomForestClassifier(random_state=100))\n",
    "])\n",
    "\n",
    "model.fit(x_train, y_train)\n",
    "y_predict = model.predict(x_test)\n",
    "\n",
    "print(classification_report(y_test, y_predict))"
   ]
  },
  {
   "cell_type": "code",
   "execution_count": null,
   "metadata": {},
   "outputs": [],
   "source": [
    "# Bài tập trên lớp, xử lý lỗi `ValueError: Found unknown categories ['South Carolina', 'New Hampshire'] in column 0 during transform`\n",
    "\n",
    "# Phân tích lỗi:\n",
    "# - Lỗi này xảy ra với OneHotEncoder khi nó gặp các giá trị trong dữ liệu test mà chưa từng xuất hiện trong dữ liệu training\n",
    "# - Trong trường hợp này, các địa điểm 'South Carolina' và 'New Hampshire' xuất hiện trong tập test nhưng không có trong tập training\n",
    "# - Mặc định, OneHotEncoder sẽ báo lỗi khi gặp các categories mới trong quá trình transform\n",
    "\n",
    "# Cách khắc phục: Thêm tham số handle_unknown='ignore' cho OneHotEncoder:\n",
    "\n",
    "# preprocessor =  ColumnTransformer(transformers=[\n",
    "#     (\"title\", TfidfVectorizer(stop_words=\"english\", ngram_range=(1, 1)), \"title\"),\n",
    "#     (\"location\", OneHotEncoder(), [\"location\"]),\n",
    "#     (\"description\", TfidfVectorizer(stop_words=\"english\", ngram_range=(1, 2)), \"description\"),\n",
    "#     (\"function\", OneHotEncoder(), [\"function\"]),\n",
    "#     (\"industry\", TfidfVectorizer(stop_words=\"english\", ngram_range=(1, 1)), \"industry\"),\n",
    "# ])\n",
    "# ===>>\n",
    "# preprocessor = ColumnTransformer(transformers=[\n",
    "#     (\"title\", TfidfVectorizer(stop_words=\"english\", ngram_range=(1, 1)), \"title\"),\n",
    "#     (\"location\", OneHotEncoder(handle_unknown='ignore'), [\"location\"]), # Thêm handle_unknown='ignore'\n",
    "#     (\"description\", TfidfVectorizer(stop_words=\"english\", ngram_range=(1, 2)), \"description\"),\n",
    "#     (\"function\", OneHotEncoder(handle_unknown='ignore'), [\"function\"]), # Thêm cho cả function\n",
    "#     (\"industry\", TfidfVectorizer(stop_words=\"english\", ngram_range=(1, 1)), \"industry\"),\n",
    "# ])"
   ]
  },
  {
   "cell_type": "raw",
   "metadata": {
    "vscode": {
     "languageId": "raw"
    }
   },
   "source": [
    "Phân tích báo cáo lần chạy đầu tiên theo code mẫu:\n",
    "                                      precision    recall  f1-score   support\n",
    "\n",
    "                      bereichsleiter       0.75      0.03      0.06       188\n",
    "       director_business_unit_leader       1.00      0.19      0.32        16\n",
    "                 manager_team_leader       0.64      0.51      0.57       546\n",
    "senior_specialist_or_project_manager       0.71      0.96      0.82       863\n",
    "                          specialist       0.00      0.00      0.00         2\n",
    "\n",
    "                            accuracy                           0.69      1615\n",
    "                           macro avg       0.62      0.34      0.35      1615\n",
    "                        weighted avg       0.69      0.69      0.64      1615\n",
    "\n",
    "\n",
    "*) Phân tích theo classes:\n",
    "\"specialist\" (2 mẫu): Kết quả rất kém (0.0 cho tất cả metrics) do quá ít dữ liệu\n",
    "\"senior_specialist_or_project_manager\" (863 mẫu): Kết quả tốt nhất\n",
    "- Recall cao (0.96): 96% các mẫu thuộc class này được phân loại đúng\n",
    "- Precision khá (0.71): 71% các dự đoán là class này là chính xác\n",
    "- F1-score tốt (0.82): Cân bằng tốt giữa precision và recall\n",
    "\"manager_team_leader\" (546 mẫu): Kết quả trung bình\n",
    "- Precision và recall tương đối cân bằng (0.64 và 0.51)\n",
    "\"director_business_unit_leader\" (16 mẫu): Precision hoàn hảo nhưng recall thấp\n",
    "- Precision = 1.0: Khi model dự đoán class này thì luôn đúng\n",
    "- Recall thấp (0.19): Chỉ phát hiện được 19% các mẫu thuộc class này\n",
    "\"bereichsleiter\" (188 mẫu): Kết quả kém\n",
    "- Recall rất thấp (0.03): Chỉ phát hiện được 3% các mẫu thuộc class này\n",
    "\n",
    "*) Đánh giá tổng thể:\n",
    "- Accuracy = 0.69: Model dự đoán đúng 69% các trường hợp\n",
    "- Macro avg thấp (0.35) cho thấy model không hoạt động tốt trên tất cả các classes\n",
    "- Weighted avg (0.64) tốt hơn macro avg do tính đến số lượng mẫu của mỗi class"
   ]
  },
  {
   "cell_type": "code",
   "execution_count": 8,
   "metadata": {},
   "outputs": [
    {
     "name": "stdout",
     "output_type": "stream",
     "text": [
      "                                      precision    recall  f1-score   support\n",
      "\n",
      "                      bereichsleiter       0.64      0.04      0.07       188\n",
      "       director_business_unit_leader       1.00      0.19      0.32        16\n",
      "                 manager_team_leader       0.63      0.46      0.53       546\n",
      "senior_specialist_or_project_manager       0.69      0.96      0.80       863\n",
      "                          specialist       0.00      0.00      0.00         2\n",
      "\n",
      "                            accuracy                           0.67      1615\n",
      "                           macro avg       0.59      0.33      0.34      1615\n",
      "                        weighted avg       0.66      0.67      0.62      1615\n",
      "\n"
     ]
    }
   ],
   "source": [
    "# Cài tiến 1: Xử lý mất cân bằng dữ liệu bằng tham số class_weight='balanced' của RandomForestClassifier\n",
    "\n",
    "model1 = Pipeline(steps=[\n",
    "    (\"pre_processor\", preprocessor),\n",
    "    (\"regressor\", RandomForestClassifier(random_state=100, class_weight='balanced'))\n",
    "])\n",
    "\n",
    "model1.fit(x_train, y_train)\n",
    "y_predict1 = model.predict(x_test)\n",
    "\n",
    "print(classification_report(y_test, y_predict1, zero_division=0))"
   ]
  },
  {
   "cell_type": "code",
   "execution_count": 12,
   "metadata": {},
   "outputs": [
    {
     "name": "stdout",
     "output_type": "stream",
     "text": [
      "                                      precision    recall  f1-score   support\n",
      "\n",
      "                      bereichsleiter       0.67      0.09      0.15       188\n",
      "       director_business_unit_leader       1.00      0.19      0.32        16\n",
      "                 manager_team_leader       0.62      0.54      0.58       546\n",
      "senior_specialist_or_project_manager       0.72      0.93      0.82       863\n",
      "                          specialist       0.00      0.00      0.00         2\n",
      "\n",
      "                            accuracy                           0.69      1615\n",
      "                           macro avg       0.60      0.35      0.37      1615\n",
      "                        weighted avg       0.69      0.69      0.65      1615\n",
      "\n"
     ]
    }
   ],
   "source": [
    "# Cài tiến 2: Xử lý mất cân bằng dữ liệu bằng cách sử dụng over_sampling bằng SMOTE\n",
    "from imblearn.over_sampling import SMOTE\n",
    "from imblearn.pipeline import Pipeline as ImblearnPipeline\n",
    "\n",
    "model2 = ImblearnPipeline(steps=[\n",
    "    (\"pre_processor\", preprocessor),\n",
    "    (\"smote\", SMOTE(random_state=100, k_neighbors=2)), # giảm k_neighbors xuống 2 để tránh lỗi `ValueError: Expected n_neighbors <= n_samples_fit, but n_neighbors = 6, n_samples_fit = 4, n_samples = 4`. Do SMOTE không thể tạo các mẫu tổng hợp mới vì số lượng neighbors yêu cầu (mặc định là 5) lớn hơn số lượng mẫu có sẵn trong một số classes thiểu số hiện tại là 4\n",
    "    (\"regressor\", RandomForestClassifier(random_state=100))\n",
    "])\n",
    "\n",
    "model2.fit(x_train, y_train)\n",
    "y_predict2 = model2.predict(x_test)\n",
    "\n",
    "print(classification_report(y_test, y_predict2, zero_division=0))"
   ]
  },
  {
   "cell_type": "code",
   "execution_count": 14,
   "metadata": {},
   "outputs": [
    {
     "name": "stdout",
     "output_type": "stream",
     "text": [
      "Fitting 5 folds for each of 324 candidates, totalling 1620 fits\n"
     ]
    },
    {
     "name": "stderr",
     "output_type": "stream",
     "text": [
      "/Users/tuantai229/Projects/VietAI-x-CoderSchool/venv/lib/python3.12/site-packages/sklearn/model_selection/_split.py:776: UserWarning: The least populated class in y has only 4 members, which is less than n_splits=5.\n",
      "  warnings.warn(\n",
      "/Users/tuantai229/Projects/VietAI-x-CoderSchool/venv/lib/python3.12/site-packages/numpy/ma/core.py:2820: RuntimeWarning: invalid value encountered in cast\n",
      "  _data = np.array(data, dtype=dtype, copy=copy,\n"
     ]
    },
    {
     "name": "stdout",
     "output_type": "stream",
     "text": [
      "\n",
      "Best parameters: {'regressor__class_weight': 'balanced_subsample', 'regressor__max_depth': 20, 'regressor__max_features': 'sqrt', 'regressor__min_samples_leaf': 1, 'regressor__min_samples_split': 5, 'regressor__n_estimators': 200}\n",
      "Best cross-validation score: 0.43067163175896256\n",
      "\n",
      "Kết quả với best parameters:\n",
      "                                      precision    recall  f1-score   support\n",
      "\n",
      "                      bereichsleiter       0.63      0.23      0.34       188\n",
      "       director_business_unit_leader       1.00      0.19      0.32        16\n",
      "                 manager_team_leader       0.61      0.58      0.60       546\n",
      "senior_specialist_or_project_manager       0.76      0.90      0.82       863\n",
      "                          specialist       0.00      0.00      0.00         2\n",
      "\n",
      "                            accuracy                           0.71      1615\n",
      "                           macro avg       0.60      0.38      0.41      1615\n",
      "                        weighted avg       0.70      0.71      0.68      1615\n",
      "\n"
     ]
    }
   ],
   "source": [
    "# Dùng GridSearchCV tìm params\n",
    "param_grid = {\n",
    "    'regressor__n_estimators': [100, 200, 300],\n",
    "    'regressor__max_depth': [10, 20, None],\n",
    "    'regressor__min_samples_split': [2, 5, 10],\n",
    "    'regressor__min_samples_leaf': [1, 2, 4],\n",
    "    'regressor__max_features': ['sqrt', 'log2'],\n",
    "    'regressor__class_weight': ['balanced', 'balanced_subsample']\n",
    "}\n",
    "\n",
    "grid_search = GridSearchCV(\n",
    "    model1,\n",
    "    param_grid,\n",
    "    cv=5,\n",
    "    scoring='f1_macro',\n",
    "    n_jobs=-1,\n",
    "    verbose=1\n",
    ")\n",
    "\n",
    "grid_search.fit(x_train, y_train)\n",
    "print(\"\\nBest parameters:\", grid_search.best_params_)\n",
    "print(\"Best cross-validation score:\", grid_search.best_score_)\n",
    "\n",
    "y_pred_best = grid_search.predict(x_test)\n",
    "print(\"\\nKết quả với best parameters:\")\n",
    "print(classification_report(y_test, y_pred_best, zero_division=0))"
   ]
  }
 ],
 "metadata": {
  "kernelspec": {
   "display_name": "venv",
   "language": "python",
   "name": "python3"
  },
  "language_info": {
   "codemirror_mode": {
    "name": "ipython",
    "version": 3
   },
   "file_extension": ".py",
   "mimetype": "text/x-python",
   "name": "python",
   "nbconvert_exporter": "python",
   "pygments_lexer": "ipython3",
   "version": "3.12.6"
  }
 },
 "nbformat": 4,
 "nbformat_minor": 2
}
