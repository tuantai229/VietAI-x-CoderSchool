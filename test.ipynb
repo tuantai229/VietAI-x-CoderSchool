{
 "cells": [
  {
   "cell_type": "code",
   "execution_count": 3,
   "metadata": {},
   "outputs": [],
   "source": [
    "import pandas as pd\n",
    "import os"
   ]
  },
  {
   "cell_type": "code",
   "execution_count": 13,
   "metadata": {},
   "outputs": [
    {
     "name": "stdout",
     "output_type": "stream",
     "text": [
      "<class 'pandas.core.frame.DataFrame'>\n",
      "RangeIndex: 398 entries, 0 to 397\n",
      "Data columns (total 9 columns):\n",
      " #   Column        Non-Null Count  Dtype  \n",
      "---  ------        --------------  -----  \n",
      " 0   mpg           398 non-null    float64\n",
      " 1   cylinders     398 non-null    int64  \n",
      " 2   displacement  398 non-null    float64\n",
      " 3   horsepower    398 non-null    object \n",
      " 4   weight        398 non-null    int64  \n",
      " 5   acceleration  398 non-null    float64\n",
      " 6   model year    398 non-null    int64  \n",
      " 7   origin        398 non-null    int64  \n",
      " 8   car name      398 non-null    object \n",
      "dtypes: float64(3), int64(4), object(2)\n",
      "memory usage: 28.1+ KB\n",
      "None\n"
     ]
    }
   ],
   "source": [
    "df_car = pd.read_csv(\"Week6_7/car.csv\")\n",
    "print(df_car.info())"
   ]
  },
  {
   "cell_type": "code",
   "execution_count": 14,
   "metadata": {},
   "outputs": [
    {
     "name": "stdout",
     "output_type": "stream",
     "text": [
      "<class 'pandas.core.frame.DataFrame'>\n",
      "RangeIndex: 1133 entries, 0 to 1132\n",
      "Data columns (total 17 columns):\n",
      " #   Column         Non-Null Count  Dtype  \n",
      "---  ------         --------------  -----  \n",
      " 0   map            1133 non-null   object \n",
      " 1   day            1133 non-null   float64\n",
      " 2   month          1133 non-null   float64\n",
      " 3   year           1133 non-null   float64\n",
      " 4   date           1133 non-null   object \n",
      " 5   wait_time_s    1133 non-null   float64\n",
      " 6   match_time_s   1133 non-null   float64\n",
      " 7   team_a_rounds  1133 non-null   float64\n",
      " 8   team_b_rounds  1133 non-null   float64\n",
      " 9   ping           1133 non-null   float64\n",
      " 10  kills          1133 non-null   float64\n",
      " 11  assists        1133 non-null   float64\n",
      " 12  deaths         1133 non-null   float64\n",
      " 13  mvps           1133 non-null   float64\n",
      " 14  hs_percent     1133 non-null   float64\n",
      " 15  points         1133 non-null   float64\n",
      " 16  result         1133 non-null   object \n",
      "dtypes: float64(14), object(3)\n",
      "memory usage: 150.6+ KB\n",
      "None\n"
     ]
    }
   ],
   "source": [
    "df_csgo = pd.read_csv(\"Week6_7/csgo.csv\")\n",
    "print(df_csgo.info())"
   ]
  },
  {
   "cell_type": "code",
   "execution_count": 15,
   "metadata": {},
   "outputs": [
    {
     "name": "stdout",
     "output_type": "stream",
     "text": [
      "<class 'pandas.core.frame.DataFrame'>\n",
      "RangeIndex: 520 entries, 0 to 519\n",
      "Data columns (total 17 columns):\n",
      " #   Column            Non-Null Count  Dtype  \n",
      "---  ------            --------------  -----  \n",
      " 0   Age               520 non-null    float64\n",
      " 1   Gender            520 non-null    object \n",
      " 2   ExcessUrination   520 non-null    object \n",
      " 3   Polydipsia        520 non-null    object \n",
      " 4   WeightLossSudden  520 non-null    object \n",
      " 5   Fatigue           520 non-null    object \n",
      " 6   Polyphagia        520 non-null    object \n",
      " 7   GenitalThrush     520 non-null    object \n",
      " 8   BlurredVision     520 non-null    object \n",
      " 9   Itching           520 non-null    object \n",
      " 10  Irritability      520 non-null    object \n",
      " 11  DelayHealing      520 non-null    object \n",
      " 12  PartialPsoriasis  520 non-null    object \n",
      " 13  MuscleStiffness   520 non-null    object \n",
      " 14  Alopecia          520 non-null    object \n",
      " 15  Obesity           520 non-null    object \n",
      " 16  DiabeticClass     520 non-null    object \n",
      "dtypes: float64(1), object(16)\n",
      "memory usage: 69.2+ KB\n",
      "None\n"
     ]
    }
   ],
   "source": [
    "df_diabetes = pd.read_csv(\"Week6_7/diabetes_data.csv\")\n",
    "print(df_diabetes.info())"
   ]
  },
  {
   "cell_type": "code",
   "execution_count": 17,
   "metadata": {},
   "outputs": [
    {
     "name": "stdout",
     "output_type": "stream",
     "text": [
      "Index(['pat_id', 'stroke', 'gender', 'age', 'hypertension', 'heart_disease',\n",
      "       'work_related_stress', 'urban_residence', 'avg_glucose_level', 'bmi',\n",
      "       'smokes'],\n",
      "      dtype='object')\n",
      "<class 'pandas.core.frame.DataFrame'>\n",
      "RangeIndex: 5110 entries, 0 to 5109\n",
      "Data columns (total 11 columns):\n",
      " #   Column               Non-Null Count  Dtype  \n",
      "---  ------               --------------  -----  \n",
      " 0   pat_id               5110 non-null   int64  \n",
      " 1   stroke               5110 non-null   int64  \n",
      " 2   gender               5110 non-null   object \n",
      " 3   age                  5110 non-null   float64\n",
      " 4   hypertension         5110 non-null   int64  \n",
      " 5   heart_disease        5110 non-null   int64  \n",
      " 6   work_related_stress  5110 non-null   int64  \n",
      " 7   urban_residence      5110 non-null   int64  \n",
      " 8   avg_glucose_level    5110 non-null   float64\n",
      " 9   bmi                  4909 non-null   float64\n",
      " 10  smokes               5110 non-null   int64  \n",
      "dtypes: float64(3), int64(7), object(1)\n",
      "memory usage: 439.3+ KB\n",
      "None\n"
     ]
    }
   ],
   "source": [
    "df_stroke = pd.read_csv(\"Week6_7/stroke_classification.csv\")\n",
    "print(df_stroke.columns)\n",
    "print(df_stroke.info())"
   ]
  }
 ],
 "metadata": {
  "kernelspec": {
   "display_name": "venv",
   "language": "python",
   "name": "python3"
  },
  "language_info": {
   "codemirror_mode": {
    "name": "ipython",
    "version": 3
   },
   "file_extension": ".py",
   "mimetype": "text/x-python",
   "name": "python",
   "nbconvert_exporter": "python",
   "pygments_lexer": "ipython3",
   "version": "3.12.6"
  }
 },
 "nbformat": 4,
 "nbformat_minor": 2
}
