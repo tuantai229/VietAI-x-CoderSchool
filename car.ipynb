{
 "cells": [
  {
   "cell_type": "code",
   "execution_count": 36,
   "metadata": {},
   "outputs": [],
   "source": [
    "import pandas as pd\n",
    "from ydata_profiling import ProfileReport\n",
    "from sklearn.model_selection import train_test_split, GridSearchCV\n",
    "from sklearn.preprocessing import StandardScaler, OneHotEncoder, OrdinalEncoder\n",
    "from sklearn.impute import SimpleImputer\n",
    "from sklearn.pipeline import Pipeline\n",
    "from sklearn.compose import ColumnTransformer\n",
    "\n",
    "from sklearn.ensemble import RandomForestRegressor, RandomForestClassifier\n",
    "from sklearn.metrics import mean_squared_error, mean_absolute_error, classification_report\n",
    "\n",
    "import numpy as np\n",
    "import os\n",
    "\n"
   ]
  },
  {
   "cell_type": "code",
   "execution_count": 37,
   "metadata": {},
   "outputs": [],
   "source": [
    "data = pd.read_csv(\"Week6_7/car.csv\")\n",
    "# [\"displacement\", \"horsepower\", \"weight\", \"acceleration\"]),\n",
    "data.loc[data.horsepower == \"?\", \"horsepower\"] = np.nan\n",
    "\n",
    "# profile = ProfileReport(data, title=\"Report\", explorative=True)\n",
    "# profile.to_file(\"car_report.html\")\n",
    "\n",
    "# mpg: Số dặm/gallon xăng (hiệu suất nhiên liệu)\n",
    "# cylinders: Số xi-lanh động cơ (đều là 8)\n",
    "# displacement: Dung tích động cơ (cc)\n",
    "# horsepower: Mã lực\n",
    "# weight: Trọng lượng xe (pounds)\n",
    "# acceleration: Thời gian tăng tốc (giây)\n",
    "# model year: Năm sản xuất (1970)\n",
    "# origin: Xuất xứ (1 = Mỹ)\n",
    "# car name: Tên xe\n",
    "\n"
   ]
  },
  {
   "cell_type": "code",
   "execution_count": null,
   "metadata": {},
   "outputs": [
    {
     "name": "stdout",
     "output_type": "stream",
     "text": [
      "MAE: 2.375912500000001\n",
      "RMSE: 14.2734367375\n"
     ]
    }
   ],
   "source": [
    "# regression\n",
    "target = \"mpg\"\n",
    "x = data.drop(target, axis=1)\n",
    "y = data[target]\n",
    "\n",
    "x_train, x_test, y_train, y_test = train_test_split(x, y, test_size=0.2, random_state=2024)\n",
    "\n",
    "num_transformer = Pipeline(steps=[\n",
    "    (\"imputer\", SimpleImputer(strategy=\"median\")),\n",
    "    (\"scaler\", StandardScaler()),\n",
    "])\n",
    "\n",
    "nom_transformer = Pipeline(steps=[\n",
    "    (\"imputer\", SimpleImputer(strategy=\"most_frequent\")),\n",
    "    (\"scaler\", OneHotEncoder(sparse_output=False, handle_unknown=\"ignore\")),\n",
    "])\n",
    "\n",
    "ord_transformer = Pipeline(steps=[\n",
    "    (\"imputer\", SimpleImputer(strategy=\"most_frequent\")),\n",
    "    (\"scaler\", OrdinalEncoder()),\n",
    "])\n",
    "\t\t\t\t\t \t\t\n",
    "preprocessor = ColumnTransformer(transformers=[\n",
    "    (\"num_features\", num_transformer, [\"displacement\", \"horsepower\", \"weight\", \"acceleration\"]),\n",
    "    (\"nom_features\", nom_transformer, [\"origin\", \"car name\"]),\n",
    "    (\"ord_features\", ord_transformer, [\"cylinders\", \"model year\"]),\n",
    "])\n",
    "\n",
    "model = Pipeline(steps=[\n",
    "    (\"pre_processor\", preprocessor),\n",
    "    (\"regressor\", RandomForestRegressor())\n",
    "])\n",
    "\n",
    "model.fit(x_train, y_train)\n",
    "\n",
    "y_predict = model.predict(x_test)\n",
    "print('MAE:', mean_absolute_error(y_test, y_predict))\n",
    "print('RMSE:', mean_squared_error(y_test, y_predict))"
   ]
  },
  {
   "cell_type": "code",
   "execution_count": null,
   "metadata": {},
   "outputs": [
    {
     "name": "stdout",
     "output_type": "stream",
     "text": [
      "              precision    recall  f1-score   support\n",
      "\n",
      "           0       0.88      0.95      0.91        37\n",
      "           1       0.95      0.88      0.92        43\n",
      "\n",
      "    accuracy                           0.91        80\n",
      "   macro avg       0.91      0.91      0.91        80\n",
      "weighted avg       0.92      0.91      0.91        80\n",
      "\n"
     ]
    }
   ],
   "source": [
    "#classification\n",
    "data['mpg_binary'] = data['mpg'].apply(lambda x: 1 if x>=23 else 0)\n",
    "data['mpg_binary'].value_counts()\n",
    "\n",
    "target = \"mpg_binary\"\n",
    "y = data[target]\n",
    "\n",
    "x_train, x_test, y_train, y_test = train_test_split(x, y, test_size=0.2, random_state=2024)\n",
    "\n",
    "num_transformer = Pipeline(steps=[\n",
    "    (\"imputer\", SimpleImputer(strategy=\"median\")),\n",
    "    (\"scaler\", StandardScaler()),\n",
    "])\n",
    "\n",
    "nom_transformer = Pipeline(steps=[\n",
    "    (\"imputer\", SimpleImputer(strategy=\"most_frequent\")),\n",
    "    (\"scaler\", OneHotEncoder(sparse_output=False, handle_unknown=\"ignore\")),\n",
    "])\n",
    "\n",
    "ord_transformer = Pipeline(steps=[\n",
    "    (\"imputer\", SimpleImputer(strategy=\"most_frequent\")),\n",
    "    (\"scaler\", OrdinalEncoder()),\n",
    "])\n",
    "\t\t\t\t\t \t\t\n",
    "preprocessor = ColumnTransformer(transformers=[\n",
    "    (\"num_features\", num_transformer, [\"displacement\", \"horsepower\", \"weight\", \"acceleration\"]),\n",
    "    (\"nom_features\", nom_transformer, [\"origin\", \"car name\"]),\n",
    "    (\"ord_features\", ord_transformer, [\"cylinders\", \"model year\"]),\n",
    "])\n",
    "\n",
    "model2 = Pipeline(steps=[\n",
    "    (\"pre_processor\", preprocessor),\n",
    "    (\"regressor\", RandomForestClassifier())\n",
    "])\n",
    "\n",
    "model2.fit(x_train, y_train)\n",
    "\n",
    "y_predict2 = model2.predict(x_test)\n",
    "print(classification_report(y_test, y_predict2))\n"
   ]
  },
  {
   "cell_type": "code",
   "execution_count": null,
   "metadata": {},
   "outputs": [
    {
     "name": "stdout",
     "output_type": "stream",
     "text": [
      "              precision    recall  f1-score   support\n",
      "\n",
      "           0       0.83      0.95      0.89        37\n",
      "           1       0.95      0.84      0.89        43\n",
      "\n",
      "    accuracy                           0.89        80\n",
      "   macro avg       0.89      0.89      0.89        80\n",
      "weighted avg       0.89      0.89      0.89        80\n",
      "\n"
     ]
    }
   ],
   "source": [
    "#chuyen doi de so sanh regression voi classification\n",
    "yp_list = []\n",
    "for yp in y_predict:\n",
    "    if yp < 23:\n",
    "        yp_list.append(0)\n",
    "    else:\n",
    "        yp_list.append(1)\n",
    "# print(yp_list)\n",
    "\n",
    "print(classification_report(y_test, yp_list))"
   ]
  }
 ],
 "metadata": {
  "kernelspec": {
   "display_name": "venv",
   "language": "python",
   "name": "python3"
  },
  "language_info": {
   "codemirror_mode": {
    "name": "ipython",
    "version": 3
   },
   "file_extension": ".py",
   "mimetype": "text/x-python",
   "name": "python",
   "nbconvert_exporter": "python",
   "pygments_lexer": "ipython3",
   "version": "3.12.6"
  }
 },
 "nbformat": 4,
 "nbformat_minor": 2
}
