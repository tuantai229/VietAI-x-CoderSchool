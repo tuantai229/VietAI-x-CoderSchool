{
 "cells": [
  {
   "cell_type": "code",
   "execution_count": 1,
   "metadata": {},
   "outputs": [],
   "source": [
    "import pandas as pd\n",
    "from ydata_profiling import ProfileReport"
   ]
  },
  {
   "cell_type": "code",
   "execution_count": 10,
   "metadata": {},
   "outputs": [
    {
     "name": "stdout",
     "output_type": "stream",
     "text": [
      "     work_year experience_level  ... company_location company_size\n",
      "0         2020               MI  ...               DE            L\n",
      "1         2020               SE  ...               JP            S\n",
      "2         2020               SE  ...               GB            M\n",
      "3         2020               MI  ...               HN            S\n",
      "4         2020               SE  ...               US            L\n",
      "..         ...              ...  ...              ...          ...\n",
      "602       2022               SE  ...               US            M\n",
      "603       2022               SE  ...               US            M\n",
      "604       2022               SE  ...               US            M\n",
      "605       2022               SE  ...               US            M\n",
      "606       2022               MI  ...               US            L\n",
      "\n",
      "[607 rows x 11 columns]\n"
     ]
    }
   ],
   "source": [
    "df = pd.read_csv(\"Week5/ds_salaries.csv\", index_col=0)\n",
    "print(df)"
   ]
  },
  {
   "cell_type": "code",
   "execution_count": 11,
   "metadata": {},
   "outputs": [
    {
     "data": {
      "application/vnd.jupyter.widget-view+json": {
       "model_id": "3023392818194effa3d736b073854cda",
       "version_major": 2,
       "version_minor": 0
      },
      "text/plain": [
       "Summarize dataset:   0%|          | 0/5 [00:00<?, ?it/s]"
      ]
     },
     "metadata": {},
     "output_type": "display_data"
    },
    {
     "data": {
      "application/vnd.jupyter.widget-view+json": {
       "model_id": "ca9d9af12c9c4e9fa0dce1c6a3f7e4b7",
       "version_major": 2,
       "version_minor": 0
      },
      "text/plain": [
       "Generate report structure:   0%|          | 0/1 [00:00<?, ?it/s]"
      ]
     },
     "metadata": {},
     "output_type": "display_data"
    },
    {
     "data": {
      "application/vnd.jupyter.widget-view+json": {
       "model_id": "cd02a370454a40e0aedeec05378c57ce",
       "version_major": 2,
       "version_minor": 0
      },
      "text/plain": [
       "Render HTML:   0%|          | 0/1 [00:00<?, ?it/s]"
      ]
     },
     "metadata": {},
     "output_type": "display_data"
    },
    {
     "data": {
      "application/vnd.jupyter.widget-view+json": {
       "model_id": "0067f61a3b6c4e63834cb6fb0bd3780b",
       "version_major": 2,
       "version_minor": 0
      },
      "text/plain": [
       "Export report to file:   0%|          | 0/1 [00:00<?, ?it/s]"
      ]
     },
     "metadata": {},
     "output_type": "display_data"
    }
   ],
   "source": [
    "profile = ProfileReport(df, title=\"Salaries report\", explorative=True)\n",
    "profile.to_file(\"salaries_report.html\")"
   ]
  },
  {
   "cell_type": "code",
   "execution_count": 12,
   "metadata": {},
   "outputs": [
    {
     "name": "stdout",
     "output_type": "stream",
     "text": [
      "                          avg_salary  count  std_salary\n",
      "job_title                                              \n",
      "Data Analytics Lead        405000.00      1         NaN\n",
      "Principal Data Engineer    328333.33      3   235389.75\n",
      "Financial Data Analyst     275000.00      2   247487.37\n",
      "Principal Data Scientist   215242.43      7    94705.04\n",
      "Director of Data Science   195074.00      7    70015.79\n",
      "Data Architect             177873.91     11    45714.72\n",
      "Applied Data Scientist     175655.00      5   123647.19\n",
      "Analytics Engineer         175000.00      4    29508.08\n",
      "Data Specialist            165000.00      1         NaN\n",
      "Head of Data               160162.60      5    88780.42\n"
     ]
    }
   ],
   "source": [
    "# Task 1:Job title nào có mức lương trung bình theo USD cao nhất\n",
    "job_stats = df.groupby('job_title').agg({\n",
    "    'salary_in_usd': ['mean', 'count', 'std']\n",
    "    }).round(2)\n",
    "job_stats.columns = ['avg_salary', 'count', 'std_salary']\n",
    "job_stats_sorted = job_stats.sort_values('avg_salary', ascending=False)\n",
    "print(job_stats_sorted.head(10))"
   ]
  },
  {
   "cell_type": "code",
   "execution_count": 15,
   "metadata": {},
   "outputs": [
    {
     "name": "stdout",
     "output_type": "stream",
     "text": [
      "                   salary_in_usd      \n",
      "                            mean count\n",
      "employee_residence                    \n",
      "US                     149408.33    78\n",
      "CH                     122346.00     1\n",
      "SG                     119059.00     1\n",
      "DZ                     100000.00     1\n",
      "AT                      91237.00     1\n",
      "GB                      88177.36    11\n",
      "AU                      86703.00     1\n",
      "CA                      81489.17     6\n",
      "DE                      74773.71     7\n",
      "GR                      68428.00     1\n"
     ]
    }
   ],
   "source": [
    "# Task 2:Data Scientist mang quốc tịch nào có mức lương trung bình cao nhất\n",
    "ds_df = df[df['job_title'] == 'Data Scientist']\n",
    "avg_salary_by_country = ds_df.groupby('employee_residence').agg({\n",
    "    'salary_in_usd': ['mean', 'count']\n",
    "}).round(2).sort_values(('salary_in_usd', 'mean'), ascending=False)\n",
    "print(avg_salary_by_country.head(10))"
   ]
  },
  {
   "cell_type": "code",
   "execution_count": 19,
   "metadata": {},
   "outputs": [
    {
     "name": "stdout",
     "output_type": "stream",
     "text": [
      "So sánh lương trung bình tại công ty Mỹ:\n",
      "                      mean  count\n",
      "Foreign Workers   79366.84     25\n",
      "US Workers       148955.90    330\n"
     ]
    }
   ],
   "source": [
    "# Task 3:Có phải ở USA, nhân sự ngoại quốc nhận được mức lương trung bình cao hơn nhân sự trong nước không\n",
    "us_companies = df[df['company_location'] == 'US']\n",
    "us_salaries = us_companies.groupby(us_companies['employee_residence'] == 'US').salary_in_usd.agg([\n",
    "    'mean',\n",
    "    'count'\n",
    "]).round(2)\n",
    "\n",
    "us_salaries.index = ['Foreign Workers', 'US Workers']\n",
    "\n",
    "print(\"So sánh lương trung bình tại công ty Mỹ:\")\n",
    "print(us_salaries)"
   ]
  },
  {
   "cell_type": "code",
   "execution_count": 44,
   "metadata": {},
   "outputs": [
    {
     "name": "stdout",
     "output_type": "stream",
     "text": [
      "                        salary_in_usd      \n",
      "                                 mean count\n",
      "job_title                                  \n",
      "Cloud Data Engineer         160000.00     1\n",
      "Data Engineer               140680.19    47\n",
      "Lead Data Engineer          160000.00     1\n",
      "Principal Data Engineer     200000.00     1\n"
     ]
    }
   ],
   "source": [
    "# Task 4: Mức lương trung bình của Data Engineer (SE level) ở các công ty nhỏ và vừa ở USA\n",
    "filtered_df = df[\n",
    "    df['job_title'].str.contains('Data Engineer') &\n",
    "    (df['experience_level'] == 'SE') &\n",
    "    (df['company_location'] == 'US') &\n",
    "    (df['company_size'].isin(['S', 'M']))\n",
    "]\n",
    "\n",
    "# Tính lương trung bình theo size công ty\n",
    "avg_salary = filtered_df.groupby('job_title').agg({\n",
    "    'salary_in_usd': ['mean', 'count']\n",
    "}).round(2)\n",
    "\n",
    "print(avg_salary)"
   ]
  },
  {
   "cell_type": "code",
   "execution_count": 23,
   "metadata": {},
   "outputs": [
    {
     "name": "stdout",
     "output_type": "stream",
     "text": [
      "                  salary_in_usd      \n",
      "                           mean count\n",
      "experience_level                     \n",
      "EN                 88833.333333     6\n",
      "MI                112547.560000    25\n",
      "SE                163679.773585    53\n"
     ]
    }
   ],
   "source": [
    "# Task 5: So sánh mức lương của Data Scientist ở USA ở các mức trình độ (experience_level) khác nhau\n",
    "filtered_df = df[\n",
    "    (df['job_title'] == 'Data Scientist') &\n",
    "    (df['company_location'] == 'US')\n",
    "]\n",
    "\n",
    "avg_salary = filtered_df.groupby('experience_level').agg({\n",
    "    'salary_in_usd': ['mean', 'count']\n",
    "})\n",
    "\n",
    "print(avg_salary)"
   ]
  },
  {
   "cell_type": "code",
   "execution_count": 26,
   "metadata": {},
   "outputs": [
    {
     "name": "stdout",
     "output_type": "stream",
     "text": [
      "7.55%\n"
     ]
    }
   ],
   "source": [
    "# Task 6: Nhân sự là người nước ngoài chiếm tỉ lệ bao nhiêu phần trăm ở các công ty lớn ở USA\n",
    "filtered_df = df[\n",
    "    (df['company_location'] == 'US') &\n",
    "    (df['company_size'] == 'L')\n",
    "]\n",
    "\n",
    "total_employees = len(filtered_df)\n",
    "foreign_employees = len(filtered_df[filtered_df['employee_residence'] != 'US'])\n",
    "\n",
    "foreign_percentage = round((foreign_employees / total_employees * 100), 2)\n",
    "\n",
    "print(f\"{foreign_percentage}%\")"
   ]
  },
  {
   "cell_type": "code",
   "execution_count": 28,
   "metadata": {},
   "outputs": [
    {
     "name": "stdout",
     "output_type": "stream",
     "text": [
      "                                   salary_in_usd      \n",
      "                                            mean count\n",
      "job_title                                             \n",
      "Research Scientist                     450000.00     1\n",
      "Financial Data Analyst                 450000.00     1\n",
      "ML Engineer                            270000.00     1\n",
      "Data Science Manager                   200000.00     2\n",
      "Applied Machine Learning Scientist     178800.00     3\n",
      "Data Architect                         166666.67     3\n",
      "AI Scientist                           160000.00     2\n",
      "Applied Data Scientist                 157000.00     1\n",
      "Principal Data Scientist               151000.00     1\n",
      "Machine Learning Scientist             141766.67     3\n"
     ]
    }
   ],
   "source": [
    "# Task 7: Tìm ra 3 job title có mức lương trung bình cao nhất ở level MI dành cho nhân sự trong nước\n",
    "filtered_df = df[\n",
    "    (df['company_location'] == 'US') &\n",
    "    (df['experience_level'] == 'MI')\n",
    "]\n",
    "\n",
    "avg_salary = filtered_df.groupby('job_title').agg({\n",
    "    'salary_in_usd': ['mean', 'count']\n",
    "}).round(2).sort_values(('salary_in_usd', 'mean'), ascending=False)\n",
    "print(avg_salary.head(10))"
   ]
  },
  {
   "cell_type": "code",
   "execution_count": 30,
   "metadata": {},
   "outputs": [
    {
     "name": "stdout",
     "output_type": "stream",
     "text": [
      "                         salary_in_usd      \n",
      "                                  mean count\n",
      "job_title                                   \n",
      "Principal Data Scientist     161565.67     3\n"
     ]
    }
   ],
   "source": [
    "# Task 8: Job nào ở Germany (DE) có mức lương trung bình thấp nhất\n",
    "filtered_df = df[\n",
    "    (df['employee_residence'] == 'DE')\n",
    "]\n",
    "\n",
    "avg_salary = filtered_df.groupby('job_title').agg({\n",
    "    'salary_in_usd': ['mean', 'count']\n",
    "}).round(2).sort_values(('salary_in_usd', 'mean'), ascending=False)\n",
    "print(avg_salary.head(1))"
   ]
  },
  {
   "cell_type": "code",
   "execution_count": 45,
   "metadata": {},
   "outputs": [
    {
     "name": "stdout",
     "output_type": "stream",
     "text": [
      "job_title                      experience_level\n",
      "3D Computer Vision Researcher  MI                    5409.000000\n",
      "AI Scientist                   EN                   21987.250000\n",
      "                               MI                  160000.000000\n",
      "                               SE                   55000.000000\n",
      "Analytics Engineer             EX                  155000.000000\n",
      "                                                       ...      \n",
      "Product Data Analyst           MI                   13036.000000\n",
      "Research Scientist             EN                   86132.000000\n",
      "                               MI                  136498.142857\n",
      "                               SE                   88859.400000\n",
      "Staff Data Scientist           SE                  105000.000000\n",
      "Name: salary_in_usd, Length: 105, dtype: float64\n",
      "                                   SE         MI       gap\n",
      "job_title                                                 \n",
      "Machine Learning Developer   78791.00   78791.00      0.00\n",
      "Lead Data Scientist         115285.00  115000.00    285.00\n",
      "Data Architect              182076.62  166666.67  15409.96\n",
      "Principal Data Scientist    187939.40  151000.00  36939.40\n",
      "Data Analyst                111922.63   71699.21  40223.42\n"
     ]
    }
   ],
   "source": [
    "# Task 9: Job nào có khoảng cách thu nhập giữa SE và MI ít nhất\n",
    "avg_salary = df.groupby(['job_title', 'experience_level'])['salary_in_usd'].mean()\n",
    "print(avg_salary)\n",
    "\n",
    "# Tạo DataFrame với cột SE và MI\n",
    "salary_comparison = pd.DataFrame({\n",
    "    'SE': avg_salary.xs('SE', level=1),\n",
    "    'MI': avg_salary.xs('MI', level=1)\n",
    "}).dropna()  # Loại bỏ các job không có đủ cả SE và MI\n",
    "\n",
    "salary_comparison['gap'] = abs(salary_comparison['SE'] - salary_comparison['MI'])\n",
    "result = salary_comparison.sort_values('gap')\n",
    "\n",
    "print(result.head().round(2))"
   ]
  },
  {
   "cell_type": "code",
   "execution_count": 54,
   "metadata": {},
   "outputs": [
    {
     "name": "stdout",
     "output_type": "stream",
     "text": [
      "[['Financial Data Analyst', 'Data Science Manager', 'Applied Machine Learning Scientist', 'Data Architect', 'AI Scientist'], ['Data Analytics Lead', 'Applied Data Scientist', 'ML Engineer', 'Machine Learning Scientist', 'Machine Learning Infrastructure Engineer'], ['Machine Learning Scientist', 'Applied Data Scientist', 'Computer Vision Software Engineer', 'Financial Data Analyst', 'Machine Learning Developer'], ['Principal Data Engineer', 'Principal Data Scientist', 'Data Engineer', 'Head of Data', 'Director of Data Science']]\n"
     ]
    },
    {
     "data": {
      "text/plain": [
       "array([], dtype='<U40')"
      ]
     },
     "execution_count": 54,
     "metadata": {},
     "output_type": "execute_result"
    }
   ],
   "source": [
    "# Task 10: Job nào có mức lương trung bình đều nằm trong top 5 ở tất cả các level\n",
    "avg_salary = df.groupby(['job_title', 'experience_level'])['salary_in_usd'].mean()\n",
    "\n",
    "levels = df['experience_level'].unique()\n",
    "# levels = ['MI','SE']\n",
    "\n",
    "top_jobs = []\n",
    "for level in levels:\n",
    "    filtered_df = df.loc[df.experience_level == level].groupby(['job_title'])['salary_in_usd'].mean().sort_values(ascending=False).head(5)\n",
    "    top_jobs.append(filtered_df.index.to_list())\n",
    "print(top_jobs)\n",
    "\n",
    "import numpy as np\n",
    "from functools import reduce\n",
    "reduce(np.intersect1d, (top_jobs))"
   ]
  },
  {
   "cell_type": "code",
   "execution_count": 40,
   "metadata": {},
   "outputs": [
    {
     "name": "stdout",
     "output_type": "stream",
     "text": [
      "                               EN        EX        gap\n",
      "job_title                                             \n",
      "Data Engineer            58691.50  245500.0  186808.50\n",
      "Data Analyst             48452.80  120000.0   71547.20\n",
      "Data Science Consultant  57513.33   69741.0   12227.67\n"
     ]
    }
   ],
   "source": [
    "# Task 11: Job nào có mức chênh lệch thu nhập trung bình giữa EN & EX level lớn nhất (chỉ tính các công ty nhỏ và vừa)\n",
    "filtered_df = df[\n",
    "    (df['company_size'].isin(['S', 'M']))\n",
    "]\n",
    "avg_salary = filtered_df.groupby(['job_title', 'experience_level'])['salary_in_usd'].mean()\n",
    "\n",
    "salary_comparison = pd.DataFrame({\n",
    "    'EN': avg_salary.xs('EN', level=1),\n",
    "    'EX': avg_salary.xs('EX', level=1)\n",
    "}).dropna()\n",
    "\n",
    "salary_comparison['gap'] = abs(salary_comparison['EN'] - salary_comparison['EX'])\n",
    "result = salary_comparison.sort_values('gap', ascending=False)\n",
    "\n",
    "print(result.head().round(2))"
   ]
  },
  {
   "cell_type": "code",
   "execution_count": 76,
   "metadata": {},
   "outputs": [
    {
     "name": "stdout",
     "output_type": "stream",
     "text": [
      "company_location  employee_residence\n",
      "CA                US                    225000.0\n",
      "Name: salary_in_usd, dtype: float64\n"
     ]
    }
   ],
   "source": [
    "# Task 12: Nước nào trả lương cao nhất cho nhân sự nước ngoài\n",
    "filtered_df = df[df['company_location'] != df['employee_residence']]\n",
    "avg_salary = filtered_df.groupby(['company_location','employee_residence'])['salary_in_usd'].mean().sort_values(ascending=False).head(1)\n",
    "print(avg_salary)"
   ]
  },
  {
   "cell_type": "code",
   "execution_count": 56,
   "metadata": {},
   "outputs": [
    {
     "name": "stdout",
     "output_type": "stream",
     "text": [
      "experience_level  company_size\n",
      "EX                L               221942.181818\n",
      "                  S               201309.333333\n",
      "                  M               178241.750000\n",
      "SE                L               147591.013889\n",
      "                  M               137815.596774\n",
      "                  S               116026.727273\n",
      "MI                L                98030.372093\n",
      "                  M                90091.081633\n",
      "EN                L                72813.241379\n",
      "                  S                62185.310345\n",
      "Name: salary_in_usd, dtype: float64\n"
     ]
    }
   ],
   "source": [
    "# Task 13: Có phải với cùng experience_level, các công ty quy mô càng lớn thì trả lương càng cao không\n",
    "filtered_df = df.groupby(['experience_level','company_size'])['salary_in_usd'].mean().sort_values(ascending=False).head(10)\n",
    "print(filtered_df)"
   ]
  },
  {
   "cell_type": "code",
   "execution_count": null,
   "metadata": {},
   "outputs": [],
   "source": [
    "# Task 14: Sắp xếp các job title theo thứ tự tăng dần về thu nhập trung bình\n",
    "avg_salary = df.groupby(['job_title'])['salary_in_usd'].mean().sort_values(ascending=False)\n",
    "print(avg_salary)"
   ]
  },
  {
   "cell_type": "code",
   "execution_count": 66,
   "metadata": {},
   "outputs": [
    {
     "name": "stdout",
     "output_type": "stream",
     "text": [
      "Job = Machine Learning Scientist, top 1 in JP, top 3 lowest in PK\n",
      "Job = Data Scientist, top 1 in HU, top 3 lowest in FR\n",
      "Job = Data Analytics Engineer, top 1 in PK, top 3 lowest in GB\n",
      "Job = Research Scientist, top 1 in CN, top 3 lowest in NL\n",
      "Job = Data Engineer, top 1 in GR, top 3 lowest in DE\n",
      "Job = Machine Learning Engineer, top 1 in NL, top 3 lowest in JP\n",
      "Job = Data Science Engineer, top 1 in MX, top 3 lowest in GR\n",
      "Job = Machine Learning Scientist, top 1 in CA, top 3 lowest in PK\n",
      "Job = Data Scientist, top 1 in AT, top 3 lowest in HU\n",
      "Job = Data Scientist, top 1 in NG, top 3 lowest in HU\n",
      "Job = Data Engineering Manager, top 1 in ES, top 3 lowest in DE\n",
      "Job = Research Scientist, top 1 in PT, top 3 lowest in CN\n",
      "Job = Machine Learning Engineer, top 1 in IT, top 3 lowest in JP\n",
      "Job = Machine Learning Engineer, top 1 in HR, top 3 lowest in JP\n",
      "Job = Data Scientist, top 1 in LU, top 3 lowest in HU\n",
      "Job = Big Data Engineer, top 1 in RO, top 3 lowest in US\n",
      "Job = Computer Vision Engineer, top 1 in BR, top 3 lowest in DK\n",
      "Job = Machine Learning Engineer, top 1 in BE, top 3 lowest in JP\n",
      "Job = Data Scientist, top 1 in UA, top 3 lowest in HU\n",
      "Job = Data Scientist, top 1 in IL, top 3 lowest in HU\n",
      "Job = Head of Data, top 1 in RU, top 3 lowest in SI\n",
      "Job = Data Engineer, top 1 in MT, top 3 lowest in DE\n",
      "Job = Data Scientist, top 1 in CL, top 3 lowest in HU\n",
      "Job = Data Engineer, top 1 in IR, top 3 lowest in DE\n",
      "Job = Machine Learning Engineer, top 1 in CO, top 3 lowest in JP\n",
      "Job = Big Data Engineer, top 1 in MD, top 3 lowest in US\n",
      "Job = Head of Data, top 1 in SI, top 3 lowest in RU\n",
      "Job = Data Scientist, top 1 in CH, top 3 lowest in HU\n",
      "Job = Data Scientist, top 1 in VN, top 3 lowest in HU\n",
      "Job = AI Scientist, top 1 in AS, top 3 lowest in DK\n",
      "Job = Data Scientist, top 1 in TR, top 3 lowest in HU\n",
      "Job = Research Scientist, top 1 in CZ, top 3 lowest in CN\n",
      "Job = Data Scientist, top 1 in DZ, top 3 lowest in HU\n",
      "Job = Head of Data, top 1 in EE, top 3 lowest in RU\n",
      "Job = Data Scientist, top 1 in MY, top 3 lowest in HU\n",
      "Job = Computer Vision Software Engineer, top 1 in AU, top 3 lowest in US\n",
      "Job = Machine Learning Engineer, top 1 in IE, top 3 lowest in JP\n"
     ]
    }
   ],
   "source": [
    "# Task 15: Liệt kê những job title có mức thu nhập trung bình cao nhất ở 1 quốc gia, nhưng lại nằm trong top 3 job có thu nhập trung bình thấp nhất ở 1 quốc gia khác\n",
    "company_locations = df['company_location'].unique()\n",
    "for company_location in company_locations:\n",
    "    avg_salary = df[df['company_location'] == company_location].groupby(['job_title'])['salary_in_usd'].mean().sort_values(ascending=False).head(1)\n",
    "    # print(company_location)\n",
    "\n",
    "    company_locations = df['company_location'].unique()\n",
    "    for location in company_locations:\n",
    "        if location != company_location:\n",
    "            avg_salary_by_country = df[df['company_location'] == location].groupby(['job_title'])['salary_in_usd'].mean().sort_values(ascending=True).head(3)\n",
    "            if avg_salary.index[0] in avg_salary_by_country.index.to_list():\n",
    "                print(f'Job = {avg_salary.index[0]}, top 1 in {company_location}, top 3 lowest in {location}')\n",
    "                break"
   ]
  }
 ],
 "metadata": {
  "kernelspec": {
   "display_name": "venv",
   "language": "python",
   "name": "python3"
  },
  "language_info": {
   "codemirror_mode": {
    "name": "ipython",
    "version": 3
   },
   "file_extension": ".py",
   "mimetype": "text/x-python",
   "name": "python",
   "nbconvert_exporter": "python",
   "pygments_lexer": "ipython3",
   "version": "3.12.6"
  }
 },
 "nbformat": 4,
 "nbformat_minor": 2
}
