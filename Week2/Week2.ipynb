{
 "cells": [
  {
   "cell_type": "markdown",
   "id": "57dd8d9e",
   "metadata": {},
   "source": [
    "# Exercise 1"
   ]
  },
  {
   "cell_type": "code",
   "execution_count": null,
   "id": "7b3bc33d",
   "metadata": {},
   "outputs": [],
   "source": [
    "# Ex1: Write a NumPy program to reverse an array (first element becomes last).\n",
    "# Input: [12 13 14 15 16 17 18 19 20 21 22 23 24 25 26 27 28 29 30 31 32 33 34 35 36 37]"
   ]
  },
  {
   "cell_type": "code",
   "execution_count": 2,
   "id": "d8937e27",
   "metadata": {},
   "outputs": [
    {
     "name": "stdout",
     "output_type": "stream",
     "text": [
      "Mảng đảo ngược: [37, 36, 35, 34, 33, 32, 31, 30, 29, 28, 27, 26, 25, 24, 23, 22, 21, 20, 19, 18, 17, 16, 15, 14, 13, 12]\n"
     ]
    }
   ],
   "source": [
    "def reverse_array(arr):\n",
    "    left = 0\n",
    "    right = len(arr) - 1\n",
    "    \n",
    "    while left < right:\n",
    "        # Hoán đổi các phần tử ở hai đầu\n",
    "        arr[left], arr[right] = arr[right], arr[left]\n",
    "        \n",
    "        # Di chuyển các con trỏ vào trong\n",
    "        left += 1\n",
    "        right -= 1\n",
    "    \n",
    "    return arr\n",
    "\n",
    "# Mảng đầu vào\n",
    "input_array = [12, 13, 14, 15, 16, 17, 18, 19, 20, 21, 22, 23, 24, 25, 26, 27, 28, 29, 30, 31, 32, 33, 34, 35, 36, 37]\n",
    "\n",
    "# Gọi hàm để đảo ngược mảng\n",
    "reversed_array = reverse_array(input_array)\n",
    "\n",
    "print(\"Mảng đảo ngược:\", reversed_array)"
   ]
  },
  {
   "cell_type": "markdown",
   "id": "81480123",
   "metadata": {},
   "source": [
    "# Exercise 2 "
   ]
  },
  {
   "cell_type": "code",
   "execution_count": null,
   "id": "539714a5",
   "metadata": {},
   "outputs": [],
   "source": [
    "# Ex2: Write a NumPy program to test whether each element of a 1-D array is also present in a second array\n",
    "# Input Array1: [ 0 10 20 40 60]\n",
    "#       Array2: [10, 30, 40]"
   ]
  },
  {
   "cell_type": "code",
   "execution_count": 5,
   "id": "52ee6316",
   "metadata": {},
   "outputs": [
    {
     "name": "stdout",
     "output_type": "stream",
     "text": [
      "[False, True, False, True, False]\n",
      "Kết quả kiểm tra:\n",
      "0 có trong array2: False\n",
      "10 có trong array2: True\n",
      "20 có trong array2: False\n",
      "40 có trong array2: True\n",
      "60 có trong array2: False\n"
     ]
    }
   ],
   "source": [
    "def element_exists(arr1, arr2):\n",
    "    # Chuyển arr2 thành set để tìm kiếm nhanh hơn\n",
    "    set2 = set(arr2)\n",
    "    \n",
    "    # Kiểm tra từng phần tử của arr1\n",
    "    results = []\n",
    "    for element in arr1:\n",
    "        results.append(element in set2)\n",
    "    \n",
    "    return results\n",
    "\n",
    "# Mảng đầu vào\n",
    "array1 = [0, 10, 20, 40, 60]\n",
    "array2 = [10, 30, 40]\n",
    "\n",
    "# Gọi hàm để kiểm tra\n",
    "existence = element_exists(array1, array2)\n",
    "print(existence)\n",
    "\n",
    "# In kết quả\n",
    "print(\"Kết quả kiểm tra:\")\n",
    "for i, exists in enumerate(existence):\n",
    "    print(f\"{array1[i]} có trong array2: {exists}\")"
   ]
  },
  {
   "cell_type": "markdown",
   "id": "0376138e",
   "metadata": {},
   "source": [
    "# Exercise 3"
   ]
  },
  {
   "cell_type": "code",
   "execution_count": null,
   "id": "2080da3c",
   "metadata": {},
   "outputs": [],
   "source": [
    "# Ex3: Write a NumPy program to find the indices of the maximum and minimum values along the given axis of an array\n",
    "# Input Array [1,6,4,8,9,-4,-2,11]"
   ]
  },
  {
   "cell_type": "code",
   "execution_count": 3,
   "id": "4061bdf7",
   "metadata": {},
   "outputs": [
    {
     "name": "stdout",
     "output_type": "stream",
     "text": [
      "Chỉ số của giá trị nhỏ nhất: 5\n",
      "Chỉ số của giá trị lớn nhất: 7\n",
      "Giá trị nhỏ nhất: -4\n",
      "Giá trị lớn nhất: 11\n"
     ]
    }
   ],
   "source": [
    "def find_min_max_indices(arr):\n",
    "    if not arr:\n",
    "        return None, None  # Trả về None nếu mảng rỗng\n",
    "    \n",
    "    min_index = max_index = 0\n",
    "    min_value = max_value = arr[0]\n",
    "    \n",
    "    for i in range(1, len(arr)):\n",
    "        if arr[i] < min_value:\n",
    "            min_value = arr[i]\n",
    "            min_index = i\n",
    "        elif arr[i] > max_value:\n",
    "            max_value = arr[i]\n",
    "            max_index = i\n",
    "    \n",
    "    return min_index, max_index\n",
    "\n",
    "# Mảng đầu vào\n",
    "input_array = [1, 6, 4, 8, 9, -4, -2, 11]\n",
    "\n",
    "# Gọi hàm để tìm chỉ số của giá trị nhỏ nhất và lớn nhất\n",
    "min_idx, max_idx = find_min_max_indices(input_array)\n",
    "\n",
    "print(f\"Chỉ số của giá trị nhỏ nhất: {min_idx}\")\n",
    "print(f\"Chỉ số của giá trị lớn nhất: {max_idx}\")\n",
    "print(f\"Giá trị nhỏ nhất: {input_array[min_idx]}\")\n",
    "print(f\"Giá trị lớn nhất: {input_array[max_idx]}\")"
   ]
  },
  {
   "cell_type": "markdown",
   "id": "b7b28d2b",
   "metadata": {},
   "source": [
    "# Exercise 4 "
   ]
  },
  {
   "cell_type": "code",
   "execution_count": null,
   "id": "edc8dca6",
   "metadata": {},
   "outputs": [],
   "source": [
    "# Ex4: Read the entire file story.txt and write a program to print out top 100 words occur most\n",
    "# frequently and their corresponding appearance. You could ignore all\n",
    "# punction characters such as comma, dot, semicolon, ...\n",
    "# Sample output:\n",
    "# house: 453\n",
    "# dog: 440\n",
    "# people: 312\n",
    "# ..."
   ]
  },
  {
   "cell_type": "code",
   "execution_count": 6,
   "id": "ac5015cf",
   "metadata": {},
   "outputs": [
    {
     "name": "stdout",
     "output_type": "stream",
     "text": [
      "Top 100 từ xuất hiện nhiều nhất:\n",
      "the: 1672\n",
      "and: 873\n",
      "to: 734\n",
      "a: 649\n",
      "it: 605\n",
      "she: 553\n",
      "i: 538\n",
      "of: 519\n",
      "said: 467\n",
      "you: 411\n",
      "alice: 408\n",
      "in: 383\n",
      "was: 359\n",
      "that: 320\n",
      "as: 261\n",
      "her: 253\n",
      "t: 218\n",
      "s: 213\n",
      "at: 211\n",
      "with: 198\n",
      "on: 192\n",
      "all: 183\n",
      "had: 179\n",
      "but: 169\n",
      "so: 154\n",
      "for: 152\n",
      "be: 152\n",
      "they: 152\n",
      "what: 147\n",
      "not: 146\n",
      "very: 146\n",
      "this: 142\n",
      "little: 133\n",
      "he: 122\n",
      "out: 115\n",
      "is: 110\n",
      "one: 107\n",
      "down: 106\n",
      "there: 101\n",
      "up: 101\n",
      "his: 98\n",
      "about: 94\n",
      "if: 94\n",
      "then: 92\n",
      "no: 89\n",
      "like: 87\n",
      "them: 87\n",
      "were: 85\n",
      "again: 85\n",
      "would: 85\n",
      "know: 85\n",
      "or: 83\n",
      "herself: 83\n",
      "off: 82\n",
      "queen: 81\n",
      "went: 81\n",
      "do: 80\n",
      "when: 79\n",
      "have: 79\n",
      "could: 78\n",
      "thought: 73\n",
      "into: 72\n",
      "by: 70\n",
      "time: 70\n",
      "me: 68\n",
      "who: 67\n",
      "see: 66\n",
      "how: 64\n",
      "m: 64\n",
      "your: 63\n",
      "king: 63\n",
      "did: 62\n",
      "turtle: 61\n",
      "can: 60\n",
      "now: 60\n",
      "an: 60\n",
      "its: 60\n",
      "well: 60\n",
      "don: 60\n",
      "mock: 59\n",
      "are: 58\n",
      "began: 58\n",
      "my: 58\n",
      "hatter: 56\n",
      "quite: 55\n",
      "ll: 55\n",
      "gryphon: 55\n",
      "some: 54\n",
      "head: 53\n",
      "way: 53\n",
      "here: 52\n",
      "think: 52\n",
      "their: 52\n",
      "much: 51\n",
      "just: 51\n",
      "go: 51\n",
      "which: 50\n",
      "thing: 50\n",
      "more: 49\n",
      "say: 49\n"
     ]
    }
   ],
   "source": [
    "def read_file(file_path):\n",
    "    with open(file_path, 'r', encoding='utf-8') as file:\n",
    "        return file.read()\n",
    "\n",
    "def clean_text(text):\n",
    "    cleaned_text = ''\n",
    "    for char in text:\n",
    "        if char.isalnum() or char.isspace():\n",
    "            cleaned_text += char.lower()\n",
    "        else:\n",
    "            cleaned_text += ' '\n",
    "    return cleaned_text\n",
    "\n",
    "def count_words(text):\n",
    "    words = text.split()\n",
    "    word_count = {}\n",
    "    for word in words:\n",
    "        if word in word_count:\n",
    "            word_count[word] += 1\n",
    "        else:\n",
    "            word_count[word] = 1\n",
    "    return word_count\n",
    "\n",
    "def get_top_words(word_count, n):\n",
    "    sorted_words = sorted(word_count.items(), key=lambda x: x[1], reverse=True)\n",
    "    return sorted_words[:n]\n",
    "\n",
    "# Đọc file\n",
    "content = read_file('story.txt')\n",
    "\n",
    "# Làm sạch văn bản\n",
    "cleaned_content = clean_text(content)\n",
    "\n",
    "# Đếm từ\n",
    "word_counts = count_words(cleaned_content)\n",
    "\n",
    "# Lấy top 100 từ\n",
    "top_100 = get_top_words(word_counts, 100)\n",
    "\n",
    "# In kết quả\n",
    "print(\"Top 100 từ xuất hiện nhiều nhất:\")\n",
    "for word, count in top_100:\n",
    "    print(f\"{word}: {count}\")"
   ]
  }
 ],
 "metadata": {
  "kernelspec": {
   "display_name": ".venv",
   "language": "python",
   "name": "python3"
  },
  "language_info": {
   "codemirror_mode": {
    "name": "ipython",
    "version": 3
   },
   "file_extension": ".py",
   "mimetype": "text/x-python",
   "name": "python",
   "nbconvert_exporter": "python",
   "pygments_lexer": "ipython3",
   "version": "3.12.6"
  }
 },
 "nbformat": 4,
 "nbformat_minor": 5
}
