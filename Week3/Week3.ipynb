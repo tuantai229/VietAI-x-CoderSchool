{
 "cells": [
  {
   "cell_type": "markdown",
   "id": "82d12dc0",
   "metadata": {},
   "source": [
    "# Import "
   ]
  },
  {
   "cell_type": "code",
   "execution_count": null,
   "id": "43026d40",
   "metadata": {},
   "outputs": [],
   "source": [
    "import gensim.downloader as api\n",
    "import numpy as np"
   ]
  },
  {
   "cell_type": "code",
   "execution_count": null,
   "id": "f0ca5623",
   "metadata": {},
   "outputs": [],
   "source": [
    "# 25, 50, 100 or 200. Số càng lớn thì càng chính xác, nhưng chạy càng lâu các bạn nhé\n",
    "model = api.load(\"glove-twitter-200\")\n",
    "word = \"beautiful\"\n",
    "print(model[word])"
   ]
  },
  {
   "cell_type": "markdown",
   "id": "1831d560",
   "metadata": {},
   "source": [
    "# Section 1 for word2vec"
   ]
  },
  {
   "cell_type": "code",
   "execution_count": null,
   "id": "209b3dc4",
   "metadata": {},
   "outputs": [],
   "source": [
    "print(\"1----------\")\n",
    "result = model.most_similar(word, topn=10)\n",
    "print(result)"
   ]
  },
  {
   "cell_type": "markdown",
   "id": "b2bb52cb",
   "metadata": {},
   "source": [
    "# Section 2 for word2vec"
   ]
  },
  {
   "cell_type": "code",
   "execution_count": null,
   "id": "470049ec",
   "metadata": {},
   "outputs": [],
   "source": [
    "print(\"2----------\")\n",
    "result = model.most_similar(positive=[\"january\", \"february\"], topn=10)\n",
    "print(result)"
   ]
  },
  {
   "cell_type": "markdown",
   "id": "e0f0dccf",
   "metadata": {},
   "source": [
    "# Section 3 for word2vec"
   ]
  },
  {
   "cell_type": "code",
   "execution_count": null,
   "id": "fe3d7b10",
   "metadata": {},
   "outputs": [],
   "source": [
    "print(\"3----------\")\n",
    "result = model.similarity(\"man\", \"woman\")\n",
    "print(result)"
   ]
  },
  {
   "cell_type": "markdown",
   "id": "5b0882e6",
   "metadata": {},
   "source": [
    "# Section 4 for word2vec"
   ]
  },
  {
   "cell_type": "code",
   "execution_count": null,
   "id": "44e9abb9",
   "metadata": {},
   "outputs": [],
   "source": [
    "print(\"4----------\")\n",
    "result = model.most_similar(positive=[\"woman\", \"king\"], negative=[\"man\"], topn=1)\n",
    "print(result)"
   ]
  },
  {
   "cell_type": "markdown",
   "id": "699ce02d",
   "metadata": {},
   "source": [
    "# Section 5 for word2vec"
   ]
  },
  {
   "cell_type": "code",
   "execution_count": null,
   "id": "839db716",
   "metadata": {},
   "outputs": [],
   "source": [
    "print(\"5----------\")\n",
    "result = model.most_similar(positive=[\"berlin\", \"vietnam\"], negative=[\"hanoi\"], topn=1)\n",
    "print(result)"
   ]
  },
  {
   "cell_type": "markdown",
   "id": "56cb5216",
   "metadata": {},
   "source": [
    "# Section 6 for word2vec"
   ]
  },
  {
   "cell_type": "code",
   "execution_count": null,
   "id": "3f7d3740",
   "metadata": {},
   "outputs": [],
   "source": [
    "print(\"6----------\")\n",
    "result = model.similarity(\"marriage\", \"happiness\")\n",
    "print(result)"
   ]
  },
  {
   "cell_type": "code",
   "execution_count": null,
   "id": "68e2391b",
   "metadata": {},
   "outputs": [],
   "source": [
    "\n",
    "#TODO: Các bạn thử viết 2 cách khác nhau để tính cosine similarity\n",
    "# giữa 2 vector nhé. Kết quả giống với khi dùng model.similarity() là được\n",
    "# 1 cách là dùng numpy, 1 cách là không dùng numpy nhé\n"
   ]
  }
 ],
 "metadata": {
  "language_info": {
   "name": "python"
  }
 },
 "nbformat": 4,
 "nbformat_minor": 5
}
