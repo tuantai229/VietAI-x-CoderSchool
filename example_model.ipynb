{
 "cells": [
  {
   "cell_type": "code",
   "execution_count": 4,
   "metadata": {},
   "outputs": [
    {
     "name": "stdout",
     "output_type": "stream",
     "text": [
      "torch.Size([16, 3, 32, 32])\n",
      "torch.Size([16, 10])\n",
      "tensor([[ 0.2577, -0.2265,  0.2277,  0.1361,  0.0912,  0.0854, -0.2046,  0.1819,\n",
      "         -0.1461, -0.0258],\n",
      "        [ 0.2510, -0.2257,  0.2310,  0.1400,  0.0928,  0.0776, -0.2088,  0.1782,\n",
      "         -0.1435, -0.0239],\n",
      "        [ 0.2573, -0.2253,  0.2256,  0.1309,  0.0956,  0.0733, -0.2073,  0.1796,\n",
      "         -0.1414, -0.0189],\n",
      "        [ 0.2546, -0.2255,  0.2288,  0.1348,  0.0943,  0.0758, -0.2102,  0.1780,\n",
      "         -0.1421, -0.0192],\n",
      "        [ 0.2615, -0.2233,  0.2233,  0.1413,  0.0878,  0.0836, -0.2045,  0.1827,\n",
      "         -0.1501, -0.0326],\n",
      "        [ 0.2588, -0.2280,  0.2274,  0.1303,  0.0905,  0.0777, -0.2070,  0.1809,\n",
      "         -0.1453, -0.0231],\n",
      "        [ 0.2555, -0.2287,  0.2288,  0.1270,  0.0929,  0.0771, -0.2063,  0.1820,\n",
      "         -0.1430, -0.0179],\n",
      "        [ 0.2492, -0.2240,  0.2291,  0.1349,  0.0994,  0.0749, -0.2078,  0.1806,\n",
      "         -0.1378, -0.0168],\n",
      "        [ 0.2532, -0.2261,  0.2289,  0.1330,  0.0923,  0.0745, -0.2069,  0.1787,\n",
      "         -0.1444, -0.0209],\n",
      "        [ 0.2556, -0.2227,  0.2292,  0.1413,  0.0919,  0.0838, -0.2078,  0.1899,\n",
      "         -0.1433, -0.0251],\n",
      "        [ 0.2565, -0.2275,  0.2271,  0.1295,  0.0920,  0.0737, -0.2079,  0.1773,\n",
      "         -0.1444, -0.0207],\n",
      "        [ 0.2591, -0.2268,  0.2275,  0.1413,  0.0881,  0.0824, -0.2088,  0.1742,\n",
      "         -0.1485, -0.0325],\n",
      "        [ 0.2540, -0.2232,  0.2312,  0.1395,  0.0952,  0.0826, -0.2037,  0.1903,\n",
      "         -0.1405, -0.0228],\n",
      "        [ 0.2612, -0.2239,  0.2249,  0.1411,  0.0911,  0.0832, -0.2063,  0.1849,\n",
      "         -0.1454, -0.0303],\n",
      "        [ 0.2586, -0.2202,  0.2276,  0.1371,  0.0947,  0.0813, -0.2062,  0.1941,\n",
      "         -0.1410, -0.0188],\n",
      "        [ 0.2577, -0.2262,  0.2239,  0.1372,  0.0895,  0.0832, -0.2068,  0.1717,\n",
      "         -0.1497, -0.0300]], grad_fn=<AddmmBackward0>)\n"
     ]
    }
   ],
   "source": [
    "import torch\n",
    "import torch.nn as nn\n",
    "\n",
    "class MyNeuralNetwork(nn.Module):\n",
    "    def __init__(self, num_classes):\n",
    "        super().__init__()\n",
    "\n",
    "        self.layers = nn.Sequential(\n",
    "            nn.Flatten(), #là phẳng dữ liệu về 2 chiều thì mới đưa vào mô hình được (16, 3, 32, 32) -> (16, 3072)\n",
    "            nn.Linear(in_features=32*32*3, out_features=128),\n",
    "            nn.ReLU(),\n",
    "            nn.Linear(in_features=128, out_features=64),\n",
    "            nn.ReLU(),\n",
    "            nn.Linear(in_features=64, out_features=32),\n",
    "            nn.ReLU(),\n",
    "            nn.Linear(in_features=32, out_features=16),\n",
    "            nn.ReLU(),\n",
    "            nn.Linear(in_features=16, out_features=num_classes)\n",
    "        )\n",
    "\n",
    "    def forward(self, x):\n",
    "        x = self.layers(x)\n",
    "\n",
    "        return x\n",
    "\n",
    "toy_data = torch.rand(16, 3, 32, 32)\n",
    "print(toy_data.shape)\n",
    "model = MyNeuralNetwork(num_classes=10)\n",
    "output = model(toy_data)\n",
    "print(output.shape)\n",
    "print(output)"
   ]
  }
 ],
 "metadata": {
  "kernelspec": {
   "display_name": "venv",
   "language": "python",
   "name": "python3"
  },
  "language_info": {
   "codemirror_mode": {
    "name": "ipython",
    "version": 3
   },
   "file_extension": ".py",
   "mimetype": "text/x-python",
   "name": "python",
   "nbconvert_exporter": "python",
   "pygments_lexer": "ipython3",
   "version": "3.12.6"
  }
 },
 "nbformat": 4,
 "nbformat_minor": 2
}
