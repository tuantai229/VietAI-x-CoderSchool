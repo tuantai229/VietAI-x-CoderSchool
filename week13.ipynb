{
 "cells": [
  {
   "cell_type": "code",
   "execution_count": 1,
   "metadata": {},
   "outputs": [],
   "source": [
    "import torch"
   ]
  },
  {
   "cell_type": "code",
   "execution_count": 11,
   "metadata": {},
   "outputs": [
    {
     "name": "stdout",
     "output_type": "stream",
     "text": [
      "torch.Size([20, 30, 40])\n",
      "3\n",
      "torch.float32\n",
      "cpu\n",
      "torch.Size([20, 30, 40])\n",
      "3\n",
      "torch.int64\n",
      "cpu\n",
      "tensor([ 10,  12,  14,  16,  18,  20,  22,  24,  26,  28,  30,  32,  34,  36,\n",
      "         38,  40,  42,  44,  46,  48,  50,  52,  54,  56,  58,  60,  62,  64,\n",
      "         66,  68,  70,  72,  74,  76,  78,  80,  82,  84,  86,  88,  90,  92,\n",
      "         94,  96,  98, 100])\n"
     ]
    }
   ],
   "source": [
    "\"\"\"\n",
    "    Create the following tensors:\n",
    "        1. 3D tensor of shape 20x30x40 with all values = 0\n",
    "        2. 1D tensor containing the even numbers between 10 and 100\n",
    "\"\"\"\n",
    "#1. 3D tensor of shape 20x30x40 with all values = 0\n",
    "#cách 1\n",
    "tensor_3d = torch.zeros(20, 30, 40)\n",
    "print(tensor_3d.shape)\n",
    "print(tensor_3d.ndim)\n",
    "print(tensor_3d.dtype)\n",
    "print(tensor_3d.device)\n",
    "\n",
    "#cách 2\n",
    "tensor_3d = torch.full((20, 30, 40), 0)\n",
    "print(tensor_3d.shape)\n",
    "print(tensor_3d.ndim)\n",
    "print(tensor_3d.dtype)\n",
    "print(tensor_3d.device)\n",
    "\n",
    "#2. 1D tensor containing the even numbers between 10 and 100\n",
    "#cách 1 dùng torch.arange() với bước nhảy step=2\n",
    "even_numbers = torch.arange(10, 101, 2)\n",
    "\n",
    "#cách 2 tạo dãy rồi lọc\n",
    "numbers = torch.arange(10, 101)\n",
    "even_numbers = numbers[numbers % 2 == 0]\n",
    "print(even_numbers)"
   ]
  },
  {
   "cell_type": "code",
   "execution_count": 12,
   "metadata": {},
   "outputs": [
    {
     "name": "stdout",
     "output_type": "stream",
     "text": [
      "tensor([[0.3758, 0.2464, 0.7729, 0.5217, 0.9974, 0.3901],\n",
      "        [0.9291, 0.7489, 0.8363, 0.4887, 0.7916, 0.9193],\n",
      "        [0.3404, 0.3689, 0.8790, 0.6004, 0.6995, 0.7423],\n",
      "        [0.2435, 0.6078, 0.4563, 0.2916, 0.3166, 0.2418]])\n",
      "\n",
      "Sum of all elements of x: tensor(13.8064)\n",
      "\n",
      "Sum of the columns of x: tensor([1.8889, 1.9719, 2.9445, 1.9024, 2.8052, 2.2935])\n",
      "Shape of colunm sum: torch.Size([6])\n",
      "\n",
      "Sum of the rows of x : tensor([3.3043, 4.7139, 3.6307, 2.1576])\n",
      "Shape of row sum: torch.Size([4])\n"
     ]
    }
   ],
   "source": [
    "\"\"\"\n",
    "    x = torch.rand(4, 6)\n",
    "    Calculate:\n",
    "        1. Sum of all elements of x\n",
    "        2. Sum of the columns of x  (result is a 6-element tensor)\n",
    "        3. Sum of the rows of x   (result is a 4-element tensor)\n",
    "\"\"\"\n",
    "x = torch.rand(4, 6)\n",
    "print(x)\n",
    "\n",
    "# 1. Sum of all elements of x\n",
    "total_sum = torch.sum(x)  # hoặc x.sum()\n",
    "print(\"\\nSum of all elements of x:\", total_sum)\n",
    "\n",
    "# 2. Sum of the columns of x\n",
    "column_sums = torch.sum(x, dim=0)  # hoặc x.sum(dim=0)\n",
    "print(\"\\nSum of the columns of x:\", column_sums)\n",
    "print(\"Shape of colunm sum:\", column_sums.shape)\n",
    "\n",
    "# 3. Sum of the rows of x\n",
    "row_sums = torch.sum(x, dim=1)  # hoặc x.sum(dim=1)\n",
    "print(\"\\nSum of the rows of x :\", row_sums)\n",
    "print(\"Shape of row sum:\", row_sums.shape)"
   ]
  },
  {
   "cell_type": "code",
   "execution_count": 13,
   "metadata": {},
   "outputs": [
    {
     "name": "stdout",
     "output_type": "stream",
     "text": [
      "\n",
      " x tensor:  tensor([0.1000, 0.3000, 2.3000, 0.4500])\n",
      "\n",
      " y tensor:  tensor([0.1300, 0.2300, 2.3300, 0.4500])\n",
      "\n",
      " Calculate cosine similarity between x and y:  tensor(0.9995)\n"
     ]
    }
   ],
   "source": [
    "\"\"\"\n",
    "    Calculate cosine similarity between 2 1D tensor:\n",
    "    x = torch.tensor([0.1, 0.3, 2.3, 0.45])\n",
    "    y = torch.tensor([0.13, 0.23, 2.33, 0.45])\n",
    "\"\"\"\n",
    "x = torch.tensor([0.1, 0.3, 2.3, 0.45])\n",
    "y = torch.tensor([0.13, 0.23, 2.33, 0.45])\n",
    "\n",
    "print(\"\\n x tensor: \", x)\n",
    "print(\"\\n y tensor: \", y)\n",
    "\n",
    "cosi = torch.nn.CosineSimilarity(dim=0) \n",
    "output = cosi(x, y)\n",
    "\n",
    "print(\"\\n Calculate cosine similarity between x and y: \", output)"
   ]
  },
  {
   "cell_type": "code",
   "execution_count": 16,
   "metadata": {},
   "outputs": [
    {
     "name": "stdout",
     "output_type": "stream",
     "text": [
      "\n",
      "x tensor: tensor([[ 0.2714,  1.1430,  1.3997,  0.8788],\n",
      "        [-2.2268,  1.9799,  1.5682,  0.5850],\n",
      "        [ 1.2289,  0.5043, -0.1625,  1.1403]])\n",
      "\n",
      "y tensor: tensor([[-0.3299,  0.6360, -0.2014,  0.5989],\n",
      "        [-0.6679,  0.0793, -2.5842, -1.5123],\n",
      "        [ 1.1110, -0.1212,  0.0324,  1.1277]])\n",
      "\n",
      "Cosine similarity between x and y in dim=0: tensor([ 0.8076,  0.5388, -0.7941,  0.3016])\n",
      "\n",
      "Cosine similarity between x and y in dim=1: tensor([ 0.4552, -0.3140,  0.9258])\n"
     ]
    }
   ],
   "source": [
    "\"\"\"\n",
    "    Calculate cosine similarity between 2 2D tensor:\n",
    "    x = torch.tensor([[ 0.2714, 1.1430, 1.3997, 0.8788],\n",
    "                      [-2.2268, 1.9799, 1.5682, 0.5850],\n",
    "                      [ 1.2289, 0.5043, -0.1625, 1.1403]])\n",
    "    y = torch.tensor([[-0.3299, 0.6360, -0.2014, 0.5989],\n",
    "                      [-0.6679, 0.0793, -2.5842, -1.5123],\n",
    "                      [ 1.1110, -0.1212, 0.0324, 1.1277]])\n",
    "\"\"\"\n",
    "x = torch.tensor([[ 0.2714, 1.1430, 1.3997, 0.8788],\n",
    "                 [-2.2268, 1.9799, 1.5682, 0.5850],\n",
    "                 [ 1.2289, 0.5043, -0.1625, 1.1403]])\n",
    "\n",
    "y = torch.tensor([[-0.3299, 0.6360, -0.2014, 0.5989],\n",
    "                 [-0.6679, 0.0793, -2.5842, -1.5123],\n",
    "                 [ 1.1110, -0.1212, 0.0324, 1.1277]])\n",
    "\n",
    "print(\"\\nx tensor:\", x)\n",
    "print(\"\\ny tensor:\", y)\n",
    "\n",
    "# Tính cosine similarity theo từng cột\n",
    "cosi_0 = torch.nn.CosineSimilarity(dim=0)\n",
    "output_0 = cosi_0(x, y)\n",
    "print(\"\\nCosine similarity between x and y in dim=0:\", output_0)\n",
    "\n",
    "# Tính cosine similarity theo từng hàng\n",
    "cosi_1 = torch.nn.CosineSimilarity(dim=1)\n",
    "output_1 = cosi_1(x, y)\n",
    "print(\"\\nCosine similarity between x and y in dim=1:\", output_1)"
   ]
  },
  {
   "cell_type": "code",
   "execution_count": 18,
   "metadata": {},
   "outputs": [
    {
     "name": "stdout",
     "output_type": "stream",
     "text": [
      "Original tensor x:\n",
      "tensor([[ 0,  1],\n",
      "        [ 2,  3],\n",
      "        [ 4,  5],\n",
      "        [ 6,  7],\n",
      "        [ 8,  9],\n",
      "        [10, 11]])\n",
      "Shape: torch.Size([6, 2])\n",
      "ndim: 2\n",
      "\n",
      "After flatten to 1D:\n",
      "tensor([ 0,  1,  2,  3,  4,  5,  6,  7,  8,  9, 10, 11])\n",
      "Shape: torch.Size([12])\n",
      "ndim: 1\n",
      "\n",
      "After reshape to 3x4:\n",
      "tensor([[ 0,  1,  2,  3],\n",
      "        [ 4,  5,  6,  7],\n",
      "        [ 8,  9, 10, 11]])\n",
      "Shape: torch.Size([3, 4])\n",
      "ndim: 2\n"
     ]
    }
   ],
   "source": [
    "\"\"\"\n",
    "    x = torch.tensor([[ 0,  1],\n",
    "                      [ 2,  3],\n",
    "                      [ 4,  5],\n",
    "                      [ 6,  7],\n",
    "                      [ 8,  9],\n",
    "                      [10, 11]])\n",
    "    Make x become 1D tensor\n",
    "    Then, make that 1D tensor become 3x4 2D tensor \n",
    "\"\"\"\n",
    "x = torch.tensor([[ 0,  1],\n",
    "                 [ 2,  3],\n",
    "                 [ 4,  5],\n",
    "                 [ 6,  7],\n",
    "                 [ 8,  9],\n",
    "                 [10, 11]])\n",
    "\n",
    "print(\"Original tensor x:\")\n",
    "print(x)\n",
    "print(\"Shape:\", x.shape)\n",
    "print(\"ndim:\", x.ndim)\n",
    "\n",
    "# Make x become 1D tensor\n",
    "x_1d = x.flatten()  # hoặc x.reshape(-1)\n",
    "print(\"\\nAfter flatten to 1D:\")\n",
    "print(x_1d)\n",
    "print(\"Shape:\", x_1d.shape)\n",
    "print(\"ndim:\", x_1d.ndim)\n",
    "\n",
    "# 2. make that 1D tensor become 3x4 2D tensor \n",
    "x_2d = x_1d.reshape(3, 4)  # hoặc x_1d.view(3, 4)\n",
    "print(\"\\nAfter reshape to 3x4:\")\n",
    "print(x_2d)\n",
    "print(\"Shape:\", x_2d.shape)\n",
    "print(\"ndim:\", x_2d.ndim)"
   ]
  },
  {
   "cell_type": "code",
   "execution_count": 19,
   "metadata": {},
   "outputs": [
    {
     "name": "stdout",
     "output_type": "stream",
     "text": [
      "Original x shape: torch.Size([3, 1080, 1920])\n",
      "Original y shape: torch.Size([3, 720, 1280])\n",
      "\n",
      "X shape after unsqueeze: torch.Size([1, 3, 1080, 1920])\n",
      "Y shape after unsqueeze: torch.Size([1, 3, 720, 1280])\n",
      "Y shape after resize: torch.Size([1, 3, 1080, 1920])\n",
      "\n",
      "Final combined shape: torch.Size([2, 3, 1080, 1920])\n"
     ]
    }
   ],
   "source": [
    "\"\"\"\n",
    "    x = torch.rand(3, 1080, 1920)\n",
    "    y = torch.rand(3, 720, 1280)\n",
    "    Do the following tasks:\n",
    "        1. Make x become 1x3x1080x1920 4D tensor\n",
    "        2. Make y become 1x3x720x1280 4D tensor\n",
    "        3. Resize y to make it have the same size as x\n",
    "        4. Join them to become 2x3x1080x1920 tensor\n",
    "\"\"\"\n",
    "import torch.nn.functional as F\n",
    "\n",
    "x = torch.rand(3, 1080, 1920)\n",
    "y = torch.rand(3, 720, 1280)\n",
    "\n",
    "print(\"Original x shape:\", x.shape)\n",
    "print(\"Original y shape:\", y.shape)\n",
    "\n",
    "# 1. Biến x thành tensor 4D\n",
    "x_4d = x.unsqueeze(0)  # Thêm chiều batch ở đầu\n",
    "print(\"\\nX shape after unsqueeze:\", x_4d.shape)  # torch.Size([1, 3, 1080, 1920])\n",
    "\n",
    "# 2. Biến y thành tensor 4D\n",
    "y_4d = y.unsqueeze(0)  # Thêm chiều batch ở đầu\n",
    "print(\"Y shape after unsqueeze:\", y_4d.shape)  # torch.Size([1, 3, 720, 1280])\n",
    "\n",
    "# 3. Resize y để có cùng kích thước với x\n",
    "y_resized = F.interpolate(y_4d, size=(1080, 1920), mode='bilinear', align_corners=False)\n",
    "print(\"Y shape after resize:\", y_resized.shape)  # torch.Size([1, 3, 1080, 1920])\n",
    "\n",
    "# 4. Ghép 2 tensor\n",
    "combined = torch.cat([x_4d, y_resized], dim=0)\n",
    "print(\"\\nFinal combined shape:\", combined.shape)  # torch.Size([2, 3, 1080, 1920])"
   ]
  }
 ],
 "metadata": {
  "kernelspec": {
   "display_name": "venv",
   "language": "python",
   "name": "python3"
  },
  "language_info": {
   "codemirror_mode": {
    "name": "ipython",
    "version": 3
   },
   "file_extension": ".py",
   "mimetype": "text/x-python",
   "name": "python",
   "nbconvert_exporter": "python",
   "pygments_lexer": "ipython3",
   "version": "3.12.6"
  }
 },
 "nbformat": 4,
 "nbformat_minor": 2
}
