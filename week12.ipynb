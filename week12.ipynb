{
 "cells": [
  {
   "cell_type": "code",
   "execution_count": 3,
   "metadata": {},
   "outputs": [
    {
     "name": "stdout",
     "output_type": "stream",
     "text": [
      "tensor([[0., 0., 0., 1., 0., 0., 0., 0., 0., 0.]])\n",
      "Shape: torch.Size([1, 10])\n",
      "Sum: 1.0\n"
     ]
    }
   ],
   "source": [
    "import torch\n",
    "\n",
    "torch.manual_seed(2023)\n",
    "\n",
    "\n",
    "def activation_func(x):\n",
    "    #TODO Implement one of these following activation function: sigmoid, tanh, ReLU, leaky ReLU\n",
    "    epsilon = 0.01   # Only use this variable if you choose Leaky ReLU\n",
    "    result = torch.maximum(torch.tensor(0.0), x)\n",
    "    return result\n",
    "\n",
    "def softmax(x):\n",
    "    # TODO Implement softmax function here\n",
    "    result = torch.exp(x - torch.max(x))\n",
    "    return result\n",
    "\n",
    "\n",
    "# Define the size of each layer in the network\n",
    "num_input = 784  # Number of node in input layer (28x28)\n",
    "num_hidden_1 = 128  # Number of nodes in hidden layer 1\n",
    "num_hidden_2 = 256  # Number of nodes in hidden layer 2\n",
    "num_hidden_3 = 128  # Number of nodes in hidden layer 3\n",
    "num_classes = 10  # Number of nodes in output layer\n",
    "\n",
    "# Random input\n",
    "input_data = torch.randn((1, num_input))\n",
    "# Weights for inputs to hidden layer 1\n",
    "W1 = torch.randn(num_input, num_hidden_1)\n",
    "# Weights for hidden layer 1 to hidden layer 2\n",
    "W2 = torch.randn(num_hidden_1, num_hidden_2)\n",
    "# Weights for hidden layer 2 to hidden layer 3\n",
    "W3 = torch.randn(num_hidden_2, num_hidden_3)\n",
    "# Weights for hidden layer 3 to output layer\n",
    "W4 = torch.randn(num_hidden_3, num_classes)\n",
    "\n",
    "# and bias terms for hidden and output layers\n",
    "B1 = torch.randn((1, num_hidden_1))\n",
    "B2 = torch.randn((1, num_hidden_2))\n",
    "B3 = torch.randn((1, num_hidden_3))\n",
    "B4 = torch.randn((1, num_classes))\n",
    "\n",
    "#TODO Calculate forward pass of the network here. Result should have the shape of [1,10]\n",
    "# Dont forget to check if sum of result = 1.0\n",
    "hidden1 = activation_func(torch.matmul(input_data, W1) + B1)\n",
    "hidden2 = activation_func(torch.matmul(hidden1, W2) + B2)\n",
    "hidden3 = activation_func(torch.matmul(hidden2, W3) + B3)\n",
    "output = torch.matmul(hidden3, W4) + B4\n",
    "\n",
    "result = softmax(output)\n",
    "print(result)\n",
    "print(\"Shape:\", result.shape)\n",
    "print(\"Sum:\", torch.sum(result).item())\n"
   ]
  }
 ],
 "metadata": {
  "kernelspec": {
   "display_name": "venv",
   "language": "python",
   "name": "python3"
  },
  "language_info": {
   "codemirror_mode": {
    "name": "ipython",
    "version": 3
   },
   "file_extension": ".py",
   "mimetype": "text/x-python",
   "name": "python",
   "nbconvert_exporter": "python",
   "pygments_lexer": "ipython3",
   "version": "3.12.6"
  }
 },
 "nbformat": 4,
 "nbformat_minor": 2
}
