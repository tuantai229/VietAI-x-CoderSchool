{
 "cells": [
  {
   "cell_type": "code",
   "execution_count": 12,
   "metadata": {},
   "outputs": [
    {
     "name": "stdout",
     "output_type": "stream",
     "text": [
      "(10000, 3072)\n",
      "              precision    recall  f1-score   support\n",
      "\n",
      "           0       0.54      0.56      0.55      1000\n",
      "           1       0.53      0.56      0.54      1000\n",
      "           2       0.37      0.33      0.35      1000\n",
      "           3       0.33      0.27      0.30      1000\n",
      "           4       0.39      0.39      0.39      1000\n",
      "           5       0.42      0.38      0.40      1000\n",
      "           6       0.46      0.56      0.51      1000\n",
      "           7       0.52      0.47      0.49      1000\n",
      "           8       0.58      0.61      0.59      1000\n",
      "           9       0.48      0.55      0.51      1000\n",
      "\n",
      "    accuracy                           0.47     10000\n",
      "   macro avg       0.46      0.47      0.46     10000\n",
      "weighted avg       0.46      0.47      0.46     10000\n",
      "\n"
     ]
    }
   ],
   "source": [
    "import numpy as np\n",
    "import pickle\n",
    "from sklearn.model_selection import train_test_split\n",
    "from sklearn.preprocessing import StandardScaler\n",
    "from sklearn.ensemble import RandomForestClassifier\n",
    "from sklearn.metrics import classification_report, accuracy_score\n",
    "\n",
    "def load_batch(file):\n",
    "    with open(file, 'rb') as fo:\n",
    "        dict = pickle.load(fo, encoding='bytes')\n",
    "    return dict[b'data'], dict[b'labels']\n",
    "\n",
    "def load_meta():\n",
    "    with open('batches.meta', 'rb') as fo:\n",
    "        dict = pickle.load(fo, encoding='bytes')\n",
    "    return dict[b'label_names']\n",
    "\n",
    "# Load data training\n",
    "x = []\n",
    "y = []\n",
    "for i in range(1, 6):\n",
    "    data, labels = load_batch(f'cifar-10-batches-py/data_batch_{i}')\n",
    "    x.append(data)\n",
    "    y.extend(labels)\n",
    "\n",
    "# Ghép các batch lại\n",
    "x_train = np.concatenate(x)\n",
    "y_train = np.array(y)\n",
    "\n",
    "x_test, y_test = load_batch(f'cifar-10-batches-py/test_batch')\n",
    "\n",
    "\n",
    "model = RandomForestClassifier()\n",
    "model.fit(x_train, y_train)\n",
    "y_predict = model.predict(x_test)\n",
    "print(classification_report(y_test, y_predict))"
   ]
  },
  {
   "cell_type": "code",
   "execution_count": 13,
   "metadata": {},
   "outputs": [
    {
     "name": "stdout",
     "output_type": "stream",
     "text": [
      "              precision    recall  f1-score   support\n",
      "\n",
      "           0       0.53      0.56      0.54      1000\n",
      "           1       0.51      0.54      0.53      1000\n",
      "           2       0.37      0.32      0.34      1000\n",
      "           3       0.35      0.29      0.32      1000\n",
      "           4       0.39      0.39      0.39      1000\n",
      "           5       0.43      0.40      0.42      1000\n",
      "           6       0.48      0.56      0.52      1000\n",
      "           7       0.52      0.46      0.49      1000\n",
      "           8       0.59      0.61      0.60      1000\n",
      "           9       0.48      0.55      0.52      1000\n",
      "\n",
      "    accuracy                           0.47     10000\n",
      "   macro avg       0.47      0.47      0.47     10000\n",
      "weighted avg       0.47      0.47      0.47     10000\n",
      "\n"
     ]
    }
   ],
   "source": [
    "scaler = StandardScaler()\n",
    "x_train = scaler.fit_transform(x_train)\n",
    "x_test = scaler.transform(x_test)\n",
    "\n",
    "model = RandomForestClassifier()\n",
    "model.fit(x_train, y_train)\n",
    "y_predict = model.predict(x_test)\n",
    "print(classification_report(y_test, y_predict))"
   ]
  },
  {
   "cell_type": "code",
   "execution_count": 14,
   "metadata": {},
   "outputs": [
    {
     "name": "stdout",
     "output_type": "stream",
     "text": [
      "              precision    recall  f1-score   support\n",
      "\n",
      "           0       0.55      0.55      0.55      1000\n",
      "           1       0.54      0.55      0.54      1000\n",
      "           2       0.41      0.33      0.36      1000\n",
      "           3       0.35      0.26      0.30      1000\n",
      "           4       0.40      0.42      0.41      1000\n",
      "           5       0.45      0.41      0.43      1000\n",
      "           6       0.47      0.61      0.53      1000\n",
      "           7       0.52      0.49      0.50      1000\n",
      "           8       0.58      0.62      0.60      1000\n",
      "           9       0.47      0.57      0.52      1000\n",
      "\n",
      "    accuracy                           0.48     10000\n",
      "   macro avg       0.47      0.48      0.47     10000\n",
      "weighted avg       0.47      0.48      0.47     10000\n",
      "\n"
     ]
    }
   ],
   "source": [
    "scaler = StandardScaler()\n",
    "x_train = scaler.fit_transform(x_train)\n",
    "x_test = scaler.transform(x_test)\n",
    "\n",
    "model = RandomForestClassifier(\n",
    "    n_estimators=200,  # tăng số lượng cây\n",
    "    max_depth=20,      # giới hạn độ sâu cây\n",
    ")\n",
    "model.fit(x_train, y_train)\n",
    "y_predict = model.predict(x_test)\n",
    "print(classification_report(y_test, y_predict))"
   ]
  }
 ],
 "metadata": {
  "kernelspec": {
   "display_name": "venv",
   "language": "python",
   "name": "python3"
  },
  "language_info": {
   "codemirror_mode": {
    "name": "ipython",
    "version": 3
   },
   "file_extension": ".py",
   "mimetype": "text/x-python",
   "name": "python",
   "nbconvert_exporter": "python",
   "pygments_lexer": "ipython3",
   "version": "3.12.6"
  }
 },
 "nbformat": 4,
 "nbformat_minor": 2
}
