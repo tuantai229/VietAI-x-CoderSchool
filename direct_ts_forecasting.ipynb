{
 "cells": [
  {
   "cell_type": "code",
   "execution_count": 2,
   "metadata": {},
   "outputs": [
    {
     "name": "stdout",
     "output_type": "stream",
     "text": [
      "MAEs:  [0.3618741479836234, 0.5058913973664135, 0.6465162623791789]\n",
      "MSEs:  [0.2210146976579342, 0.41917947971120484, 0.6476309152612925]\n",
      "R2s:  [0.9906941835498279, 0.9823771406805402, 0.9728273214391041]\n"
     ]
    }
   ],
   "source": [
    "import pandas as pd\n",
    "import matplotlib.pyplot as plt\n",
    "from sklearn.preprocessing import StandardScaler\n",
    "from sklearn.pipeline import Pipeline\n",
    "from sklearn.linear_model import LinearRegression\n",
    "from sklearn.metrics import mean_absolute_error, mean_squared_error, r2_score\n",
    "\n",
    "def create_ts_data(data, window_size, target_size):\n",
    "    i = 1\n",
    "    while i < window_size:\n",
    "        data[\"co2_{}\".format(i)] = data[\"co2\"].shift(-i)\n",
    "        i += 1\n",
    "    i = 0\n",
    "    while i < target_size:\n",
    "        data[\"target_{}\".format(i)] = data[\"co2\"].shift(-i-window_size)\n",
    "        i += 1\n",
    "    data = data.dropna(axis=0) #drop 5 hang o cuoi co gia tri na\n",
    "    return data\n",
    "\n",
    "data = pd.read_csv(\"week9/co2.csv\")\n",
    "data[\"time\"] = pd.to_datetime(data[\"time\"])\n",
    "data[\"co2\"] = data[\"co2\"].interpolate()\n",
    "\n",
    "window_size = 5\n",
    "target_size = 3\n",
    "train_ratio = 0.8\n",
    "data = create_ts_data(data, window_size, target_size)\n",
    "targets = [\"target_{}\".format(i) for i in range(target_size)]\n",
    "x = data.drop([\"time\"] + targets, axis=1)\n",
    "y = data[targets]\n",
    "num_samples = len(data)\n",
    "x_train = x[:int(num_samples*train_ratio)]\n",
    "y_train = y[:int(num_samples*train_ratio)]\n",
    "x_test = x[int(num_samples*train_ratio):]\n",
    "y_test = y[int(num_samples*train_ratio):]\n",
    "\n",
    "models = [LinearRegression() for _ in range(target_size)]\n",
    "for index, model in enumerate(models):\n",
    "    model.fit(x_train, y_train[\"target_{}\".format(index)])\n",
    "\n",
    "\n",
    "maes = []\n",
    "mses = []\n",
    "r2s = []\n",
    "for index, model in enumerate(models):\n",
    "    y_predict = model.predict(x_test)\n",
    "    maes.append(mean_absolute_error(y_test[\"target_{}\".format(index)], y_predict))\n",
    "    mses.append(mean_squared_error(y_test[\"target_{}\".format(index)], y_predict))\n",
    "    r2s.append(r2_score(y_test[\"target_{}\".format(index)], y_predict))\n",
    "\n",
    "print(\"MAEs: \",maes)\n",
    "print(\"MSEs: \",mses)\n",
    "print(\"R2s: \",r2s)\n"
   ]
  }
 ],
 "metadata": {
  "kernelspec": {
   "display_name": "venv",
   "language": "python",
   "name": "python3"
  },
  "language_info": {
   "codemirror_mode": {
    "name": "ipython",
    "version": 3
   },
   "file_extension": ".py",
   "mimetype": "text/x-python",
   "name": "python",
   "nbconvert_exporter": "python",
   "pygments_lexer": "ipython3",
   "version": "3.12.6"
  }
 },
 "nbformat": 4,
 "nbformat_minor": 2
}
