{
 "cells": [
  {
   "cell_type": "code",
   "execution_count": 4,
   "metadata": {},
   "outputs": [
    {
     "name": "stdout",
     "output_type": "stream",
     "text": [
      "MAE: 0.3605603788359254\n",
      "MSE: 0.2204494736034672\n",
      "R2: 0.9907505918201436\n",
      "[393.38295027]\n"
     ]
    },
    {
     "name": "stderr",
     "output_type": "stream",
     "text": [
      "/Users/tuantai229/Projects/VietAI-x-CoderSchool/venv/lib/python3.12/site-packages/sklearn/base.py:493: UserWarning: X does not have valid feature names, but LinearRegression was fitted with feature names\n",
      "  warnings.warn(\n"
     ]
    }
   ],
   "source": [
    "import pandas as pd\n",
    "import matplotlib.pyplot as plt\n",
    "from sklearn.preprocessing import StandardScaler\n",
    "from sklearn.pipeline import Pipeline\n",
    "from sklearn.linear_model import LinearRegression\n",
    "from sklearn.metrics import mean_absolute_error, mean_squared_error, r2_score\n",
    "\n",
    "import pickle #save model\n",
    "\n",
    "def create_ts_data(data, window_size):\n",
    "    i = 1\n",
    "    while i < window_size:\n",
    "        data[\"co2_{}\".format(i)] = data[\"co2\"].shift(-i)\n",
    "        i += 1\n",
    "    data[\"target\"] = data[\"co2\"].shift(-i)\n",
    "    data = data.dropna(axis=0) #drop 5 hang o cuoi co gia tri na\n",
    "    return data\n",
    "\n",
    "data = pd.read_csv(\"week9/co2.csv\")\n",
    "data[\"time\"] = pd.to_datetime(data[\"time\"])\n",
    "data[\"co2\"] = data[\"co2\"].interpolate()\n",
    "\n",
    "# print(data.info())\n",
    "\n",
    "# Plot Figure\n",
    "# fig, ax = plt.subplots()\n",
    "# ax.plot(data[\"time\"], data[\"co2\"])\n",
    "# ax.set_xlabel(\"Time\")\n",
    "# ax.set_ylabel(\"Co2\")\n",
    "# fig.show()\n",
    "\n",
    "window_size = 5\n",
    "train_ratio = 0.8\n",
    "data = create_ts_data(data, window_size)\n",
    "x = data.drop([\"time\", \"target\"], axis=1)\n",
    "y = data[\"target\"]\n",
    "num_samples = len(data)\n",
    "x_train = x[:int(num_samples*train_ratio)]\n",
    "y_train = y[:int(num_samples*train_ratio)]\n",
    "x_test = x[int(num_samples*train_ratio):]\n",
    "y_test = y[int(num_samples*train_ratio):]\n",
    "\n",
    "model = LinearRegression()\n",
    "\n",
    "model.fit(x_train, y_train)\n",
    "\n",
    "# filename = 'model.pkl'\n",
    "# pickle.dump(model, open(filename, 'wb'))\n",
    "\n",
    "y_predict = model.predict(x_test)\n",
    "# for i, j in zip(y_predict, y_test):\n",
    "#     print(\"Predicted value: {}. Actual value: {}\".format(i, j))\n",
    "\n",
    "print(\"MAE: {}\".format(mean_absolute_error(y_test, y_predict)))\n",
    "print(\"MSE: {}\".format(mean_squared_error(y_test, y_predict)))\n",
    "print(\"R2: {}\".format(r2_score(y_test, y_predict)))\n",
    "\n",
    "# fig, ax = plt.subplots()\n",
    "# ax.plot(data[\"time\"][:int(num_samples*train_ratio)], y_train, label=\"train\")\n",
    "# ax.plot(data[\"time\"][int(num_samples*train_ratio):], y_test, label=\"test\")\n",
    "# ax.plot(data[\"time\"][int(num_samples*train_ratio):], y_predict, label=\"prediction\")\n",
    "# ax.set_xlabel(\"Time\")\n",
    "# ax.set_ylabel(\"Co2\")\n",
    "# ax.legend()\n",
    "# ax.grid()\n",
    "# fig.show()\n",
    "\n",
    "current_data = [380.5, 380.7, 390, 390.3, 390.5]\n",
    "prediction = model.predict([current_data])\n",
    "print(prediction)"
   ]
  },
  {
   "cell_type": "code",
   "execution_count": 3,
   "metadata": {},
   "outputs": [
    {
     "name": "stdout",
     "output_type": "stream",
     "text": [
      "[393.6973022]\n"
     ]
    },
    {
     "name": "stderr",
     "output_type": "stream",
     "text": [
      "/Users/tuantai229/Projects/VietAI-x-CoderSchool/venv/lib/python3.12/site-packages/sklearn/base.py:493: UserWarning: X does not have valid feature names, but LinearRegression was fitted with feature names\n",
      "  warnings.warn(\n"
     ]
    }
   ],
   "source": [
    "filename = 'model.pkl'\n",
    "model = pickle.load(open(filename, 'rb'))\n",
    "current_data = [380.6, 380.9, 390.2, 390.5, 390.8]\n",
    "prediction = model.predict([current_data])\n",
    "print(prediction)"
   ]
  }
 ],
 "metadata": {
  "kernelspec": {
   "display_name": "venv",
   "language": "python",
   "name": "python3"
  },
  "language_info": {
   "codemirror_mode": {
    "name": "ipython",
    "version": 3
   },
   "file_extension": ".py",
   "mimetype": "text/x-python",
   "name": "python",
   "nbconvert_exporter": "python",
   "pygments_lexer": "ipython3",
   "version": "3.12.6"
  }
 },
 "nbformat": 4,
 "nbformat_minor": 2
}
