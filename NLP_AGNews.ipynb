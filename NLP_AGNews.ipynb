{
 "cells": [
  {
   "cell_type": "code",
   "execution_count": null,
   "metadata": {},
   "outputs": [
    {
     "name": "stdout",
     "output_type": "stream",
     "text": [
      "              precision    recall  f1-score   support\n",
      "\n",
      "           1       0.91      0.90      0.91      1900\n",
      "           2       0.92      0.98      0.95      1900\n",
      "           3       0.88      0.85      0.86      1900\n",
      "           4       0.88      0.87      0.87      1900\n",
      "\n",
      "    accuracy                           0.90      7600\n",
      "   macro avg       0.90      0.90      0.90      7600\n",
      "weighted avg       0.90      0.90      0.90      7600\n",
      "\n"
     ]
    }
   ],
   "source": [
    "import pandas as pd\n",
    "from sklearn.model_selection import train_test_split, GridSearchCV\n",
    "from sklearn.feature_extraction.text import TfidfVectorizer\n",
    "from sklearn.preprocessing import OneHotEncoder\n",
    "from sklearn.compose import ColumnTransformer\n",
    "from sklearn.pipeline import Pipeline\n",
    "from sklearn.ensemble import RandomForestClassifier\n",
    "from sklearn.metrics import classification_report\n",
    "from sklearn.feature_selection import SelectKBest, chi2, SelectPercentile\n",
    "\n",
    "data_train = pd.read_csv(\"AGNews/train.csv\")\n",
    "data_test = pd.read_csv(\"AGNews/test.csv\")\n",
    "\n",
    "target = \"Class Index\"\n",
    "\n",
    "x_train = data_train.drop(target, axis=1)\n",
    "y_train = data_train[target]\n",
    "x_test = data_test.drop(target, axis=1)\n",
    "y_test = data_test[target]\n",
    "\n",
    "preprocessor = ColumnTransformer(transformers=[\n",
    "    (\"Title\", TfidfVectorizer(stop_words=\"english\", ngram_range=(1, 1)), \"Title\"),\n",
    "    (\"Description\", TfidfVectorizer(stop_words=\"english\", ngram_range=(1, 2)), \"Description\"),\n",
    "])\n",
    "\n",
    "model = Pipeline(steps=[\n",
    "    (\"pre_processor\", preprocessor),\n",
    "    (\"regressor\", RandomForestClassifier(random_state=100))\n",
    "])\n",
    "\n",
    "model.fit(x_train, y_train)\n",
    "y_predict = model.predict(x_test)\n",
    "\n",
    "print(classification_report(y_test, y_predict))"
   ]
  },
  {
   "cell_type": "code",
   "execution_count": 3,
   "metadata": {},
   "outputs": [
    {
     "name": "stdout",
     "output_type": "stream",
     "text": [
      "              precision    recall  f1-score   support\n",
      "\n",
      "           1       0.86      0.85      0.85      1900\n",
      "           2       0.86      0.92      0.88      1900\n",
      "           3       0.83      0.80      0.81      1900\n",
      "           4       0.82      0.80      0.81      1900\n",
      "\n",
      "    accuracy                           0.84      7600\n",
      "   macro avg       0.84      0.84      0.84      7600\n",
      "weighted avg       0.84      0.84      0.84      7600\n",
      "\n"
     ]
    }
   ],
   "source": [
    "\n",
    "preprocessor = ColumnTransformer(transformers=[\n",
    "    (\"Title\", TfidfVectorizer(stop_words=\"english\", ngram_range=(1, 1)), \"Title\"),\n",
    "    (\"Description\", TfidfVectorizer(stop_words=\"english\", ngram_range=(1, 2), min_df=0.01, max_df=0.99), \"Description\"),\n",
    "])\n",
    "\n",
    "model = Pipeline(steps=[\n",
    "    (\"pre_processor\", preprocessor),\n",
    "    (\"feature_selector\", SelectPercentile(chi2, percentile=5)),\n",
    "    (\"regressor\", RandomForestClassifier(random_state=100))\n",
    "])\n",
    "\n",
    "model.fit(x_train, y_train)\n",
    "y_predict = model.predict(x_test)\n",
    "\n",
    "print(classification_report(y_test, y_predict))"
   ]
  }
 ],
 "metadata": {
  "kernelspec": {
   "display_name": "venv",
   "language": "python",
   "name": "python3"
  },
  "language_info": {
   "codemirror_mode": {
    "name": "ipython",
    "version": 3
   },
   "file_extension": ".py",
   "mimetype": "text/x-python",
   "name": "python",
   "nbconvert_exporter": "python",
   "pygments_lexer": "ipython3",
   "version": "3.12.6"
  }
 },
 "nbformat": 4,
 "nbformat_minor": 2
}
